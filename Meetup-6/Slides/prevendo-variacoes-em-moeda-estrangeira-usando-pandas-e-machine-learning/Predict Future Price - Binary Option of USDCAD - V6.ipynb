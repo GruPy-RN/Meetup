{
 "cells": [
  {
   "cell_type": "markdown",
   "metadata": {
    "slideshow": {
     "slide_type": "slide"
    }
   },
   "source": [
    "# Predicting Financial Time Series Data with Machine Learning\n",
    "\n",
    "This is a sample that predicts future binary behaviour from past price movements.\n",
    "Here we implement it with USD/CAD rate as an example, but you can convert it to other market prices by getting other csv files.\n",
    "\n",
    "**Ianca Leite**\n"
   ]
  },
  {
   "cell_type": "markdown",
   "metadata": {
    "slideshow": {
     "slide_type": "slide"
    }
   },
   "source": [
    "## Importing Libraries"
   ]
  },
  {
   "cell_type": "code",
   "execution_count": 1,
   "metadata": {
    "slideshow": {
     "slide_type": "fragment"
    }
   },
   "outputs": [],
   "source": [
    "import datetime\n",
    "import numpy as np\n",
    "import pandas as pd\n",
    "\n",
    "import matplotlib.pyplot as plt\n",
    "\n",
    "from sklearn.ensemble import GradientBoostingClassifier \n",
    "from sklearn.ensemble import RandomForestClassifier"
   ]
  },
  {
   "cell_type": "markdown",
   "metadata": {
    "slideshow": {
     "slide_type": "slide"
    }
   },
   "source": [
    "## Structuring data"
   ]
  },
  {
   "cell_type": "code",
   "execution_count": 2,
   "metadata": {
    "slideshow": {
     "slide_type": "fragment"
    }
   },
   "outputs": [],
   "source": [
    "h = pd.read_csv('USDCAD_Candlestick_1_Hour_BID_31.12.2015-31.05.2018.csv')"
   ]
  },
  {
   "cell_type": "markdown",
   "metadata": {
    "slideshow": {
     "slide_type": "subslide"
    }
   },
   "source": [
    "Let's put the USD/CAD hour data into a **Pandas Dataframe**"
   ]
  },
  {
   "cell_type": "code",
   "execution_count": 3,
   "metadata": {
    "scrolled": true,
    "slideshow": {
     "slide_type": "fragment"
    }
   },
   "outputs": [
    {
     "data": {
      "text/html": [
       "<div>\n",
       "<style scoped>\n",
       "    .dataframe tbody tr th:only-of-type {\n",
       "        vertical-align: middle;\n",
       "    }\n",
       "\n",
       "    .dataframe tbody tr th {\n",
       "        vertical-align: top;\n",
       "    }\n",
       "\n",
       "    .dataframe thead th {\n",
       "        text-align: right;\n",
       "    }\n",
       "</style>\n",
       "<table border=\"1\" class=\"dataframe\">\n",
       "  <thead>\n",
       "    <tr style=\"text-align: right;\">\n",
       "      <th></th>\n",
       "      <th>Gmt time</th>\n",
       "      <th>Open</th>\n",
       "      <th>High</th>\n",
       "      <th>Low</th>\n",
       "      <th>Close</th>\n",
       "      <th>Volume</th>\n",
       "    </tr>\n",
       "  </thead>\n",
       "  <tbody>\n",
       "    <tr>\n",
       "      <th>0</th>\n",
       "      <td>01.01.2016 00:00:00.000</td>\n",
       "      <td>1.38326</td>\n",
       "      <td>1.38326</td>\n",
       "      <td>1.38326</td>\n",
       "      <td>1.38326</td>\n",
       "      <td>0.0</td>\n",
       "    </tr>\n",
       "    <tr>\n",
       "      <th>1</th>\n",
       "      <td>01.01.2016 01:00:00.000</td>\n",
       "      <td>1.38326</td>\n",
       "      <td>1.38326</td>\n",
       "      <td>1.38326</td>\n",
       "      <td>1.38326</td>\n",
       "      <td>0.0</td>\n",
       "    </tr>\n",
       "    <tr>\n",
       "      <th>2</th>\n",
       "      <td>01.01.2016 02:00:00.000</td>\n",
       "      <td>1.38326</td>\n",
       "      <td>1.38326</td>\n",
       "      <td>1.38326</td>\n",
       "      <td>1.38326</td>\n",
       "      <td>0.0</td>\n",
       "    </tr>\n",
       "    <tr>\n",
       "      <th>3</th>\n",
       "      <td>01.01.2016 03:00:00.000</td>\n",
       "      <td>1.38326</td>\n",
       "      <td>1.38326</td>\n",
       "      <td>1.38326</td>\n",
       "      <td>1.38326</td>\n",
       "      <td>0.0</td>\n",
       "    </tr>\n",
       "    <tr>\n",
       "      <th>4</th>\n",
       "      <td>01.01.2016 04:00:00.000</td>\n",
       "      <td>1.38326</td>\n",
       "      <td>1.38326</td>\n",
       "      <td>1.38326</td>\n",
       "      <td>1.38326</td>\n",
       "      <td>0.0</td>\n",
       "    </tr>\n",
       "  </tbody>\n",
       "</table>\n",
       "</div>"
      ],
      "text/plain": [
       "                  Gmt time     Open     High      Low    Close  Volume\n",
       "0  01.01.2016 00:00:00.000  1.38326  1.38326  1.38326  1.38326     0.0\n",
       "1  01.01.2016 01:00:00.000  1.38326  1.38326  1.38326  1.38326     0.0\n",
       "2  01.01.2016 02:00:00.000  1.38326  1.38326  1.38326  1.38326     0.0\n",
       "3  01.01.2016 03:00:00.000  1.38326  1.38326  1.38326  1.38326     0.0\n",
       "4  01.01.2016 04:00:00.000  1.38326  1.38326  1.38326  1.38326     0.0"
      ]
     },
     "metadata": {},
     "output_type": "display_data"
    },
    {
     "data": {
      "text/html": [
       "<div>\n",
       "<style scoped>\n",
       "    .dataframe tbody tr th:only-of-type {\n",
       "        vertical-align: middle;\n",
       "    }\n",
       "\n",
       "    .dataframe tbody tr th {\n",
       "        vertical-align: top;\n",
       "    }\n",
       "\n",
       "    .dataframe thead th {\n",
       "        text-align: right;\n",
       "    }\n",
       "</style>\n",
       "<table border=\"1\" class=\"dataframe\">\n",
       "  <thead>\n",
       "    <tr style=\"text-align: right;\">\n",
       "      <th></th>\n",
       "      <th>Gmt time</th>\n",
       "      <th>Open</th>\n",
       "      <th>High</th>\n",
       "      <th>Low</th>\n",
       "      <th>Close</th>\n",
       "      <th>Volume</th>\n",
       "    </tr>\n",
       "  </thead>\n",
       "  <tbody>\n",
       "    <tr>\n",
       "      <th>15116</th>\n",
       "      <td>31.05.2018 19:00:00.000</td>\n",
       "      <td>1.29566</td>\n",
       "      <td>1.29671</td>\n",
       "      <td>1.29541</td>\n",
       "      <td>1.29666</td>\n",
       "      <td>5.330320e+09</td>\n",
       "    </tr>\n",
       "    <tr>\n",
       "      <th>15117</th>\n",
       "      <td>31.05.2018 20:00:00.000</td>\n",
       "      <td>1.29668</td>\n",
       "      <td>1.29682</td>\n",
       "      <td>1.29502</td>\n",
       "      <td>1.29563</td>\n",
       "      <td>3.116830e+09</td>\n",
       "    </tr>\n",
       "    <tr>\n",
       "      <th>15118</th>\n",
       "      <td>31.05.2018 21:00:00.000</td>\n",
       "      <td>1.29563</td>\n",
       "      <td>1.29577</td>\n",
       "      <td>1.29498</td>\n",
       "      <td>1.29564</td>\n",
       "      <td>1.456650e+09</td>\n",
       "    </tr>\n",
       "    <tr>\n",
       "      <th>15119</th>\n",
       "      <td>31.05.2018 22:00:00.000</td>\n",
       "      <td>1.29563</td>\n",
       "      <td>1.29563</td>\n",
       "      <td>1.29407</td>\n",
       "      <td>1.29409</td>\n",
       "      <td>1.370330e+09</td>\n",
       "    </tr>\n",
       "    <tr>\n",
       "      <th>15120</th>\n",
       "      <td>31.05.2018 23:00:00.000</td>\n",
       "      <td>1.29409</td>\n",
       "      <td>1.29469</td>\n",
       "      <td>1.29406</td>\n",
       "      <td>1.29436</td>\n",
       "      <td>1.259850e+09</td>\n",
       "    </tr>\n",
       "  </tbody>\n",
       "</table>\n",
       "</div>"
      ],
      "text/plain": [
       "                      Gmt time     Open     High      Low    Close  \\\n",
       "15116  31.05.2018 19:00:00.000  1.29566  1.29671  1.29541  1.29666   \n",
       "15117  31.05.2018 20:00:00.000  1.29668  1.29682  1.29502  1.29563   \n",
       "15118  31.05.2018 21:00:00.000  1.29563  1.29577  1.29498  1.29564   \n",
       "15119  31.05.2018 22:00:00.000  1.29563  1.29563  1.29407  1.29409   \n",
       "15120  31.05.2018 23:00:00.000  1.29409  1.29469  1.29406  1.29436   \n",
       "\n",
       "             Volume  \n",
       "15116  5.330320e+09  \n",
       "15117  3.116830e+09  \n",
       "15118  1.456650e+09  \n",
       "15119  1.370330e+09  \n",
       "15120  1.259850e+09  "
      ]
     },
     "metadata": {},
     "output_type": "display_data"
    }
   ],
   "source": [
    "df = pd.DataFrame(h)\n",
    "display(df.head())\n",
    "display(df.tail())"
   ]
  },
  {
   "cell_type": "markdown",
   "metadata": {
    "slideshow": {
     "slide_type": "subslide"
    }
   },
   "source": [
    "We can have a quick look at the data using *describe*:"
   ]
  },
  {
   "cell_type": "code",
   "execution_count": 4,
   "metadata": {
    "scrolled": true,
    "slideshow": {
     "slide_type": "fragment"
    }
   },
   "outputs": [
    {
     "data": {
      "text/html": [
       "<div>\n",
       "<style scoped>\n",
       "    .dataframe tbody tr th:only-of-type {\n",
       "        vertical-align: middle;\n",
       "    }\n",
       "\n",
       "    .dataframe tbody tr th {\n",
       "        vertical-align: top;\n",
       "    }\n",
       "\n",
       "    .dataframe thead th {\n",
       "        text-align: right;\n",
       "    }\n",
       "</style>\n",
       "<table border=\"1\" class=\"dataframe\">\n",
       "  <thead>\n",
       "    <tr style=\"text-align: right;\">\n",
       "      <th></th>\n",
       "      <th>Open</th>\n",
       "      <th>High</th>\n",
       "      <th>Low</th>\n",
       "      <th>Close</th>\n",
       "      <th>Volume</th>\n",
       "    </tr>\n",
       "  </thead>\n",
       "  <tbody>\n",
       "    <tr>\n",
       "      <th>count</th>\n",
       "      <td>15121.000000</td>\n",
       "      <td>15121.000000</td>\n",
       "      <td>15121.000000</td>\n",
       "      <td>15121.000000</td>\n",
       "      <td>1.512100e+04</td>\n",
       "    </tr>\n",
       "    <tr>\n",
       "      <th>mean</th>\n",
       "      <td>1.304673</td>\n",
       "      <td>1.305609</td>\n",
       "      <td>1.303732</td>\n",
       "      <td>1.304668</td>\n",
       "      <td>7.468546e+09</td>\n",
       "    </tr>\n",
       "    <tr>\n",
       "      <th>std</th>\n",
       "      <td>0.042932</td>\n",
       "      <td>0.043035</td>\n",
       "      <td>0.042843</td>\n",
       "      <td>0.042928</td>\n",
       "      <td>7.376074e+09</td>\n",
       "    </tr>\n",
       "    <tr>\n",
       "      <th>min</th>\n",
       "      <td>1.206650</td>\n",
       "      <td>1.207530</td>\n",
       "      <td>1.206110</td>\n",
       "      <td>1.206650</td>\n",
       "      <td>0.000000e+00</td>\n",
       "    </tr>\n",
       "    <tr>\n",
       "      <th>25%</th>\n",
       "      <td>1.274700</td>\n",
       "      <td>1.275740</td>\n",
       "      <td>1.273850</td>\n",
       "      <td>1.274710</td>\n",
       "      <td>3.432900e+09</td>\n",
       "    </tr>\n",
       "    <tr>\n",
       "      <th>50%</th>\n",
       "      <td>1.302150</td>\n",
       "      <td>1.303100</td>\n",
       "      <td>1.301030</td>\n",
       "      <td>1.302100</td>\n",
       "      <td>5.657690e+09</td>\n",
       "    </tr>\n",
       "    <tr>\n",
       "      <th>75%</th>\n",
       "      <td>1.332820</td>\n",
       "      <td>1.333680</td>\n",
       "      <td>1.332170</td>\n",
       "      <td>1.332800</td>\n",
       "      <td>8.530470e+09</td>\n",
       "    </tr>\n",
       "    <tr>\n",
       "      <th>max</th>\n",
       "      <td>1.468360</td>\n",
       "      <td>1.468980</td>\n",
       "      <td>1.463760</td>\n",
       "      <td>1.468420</td>\n",
       "      <td>1.809803e+11</td>\n",
       "    </tr>\n",
       "  </tbody>\n",
       "</table>\n",
       "</div>"
      ],
      "text/plain": [
       "               Open          High           Low         Close        Volume\n",
       "count  15121.000000  15121.000000  15121.000000  15121.000000  1.512100e+04\n",
       "mean       1.304673      1.305609      1.303732      1.304668  7.468546e+09\n",
       "std        0.042932      0.043035      0.042843      0.042928  7.376074e+09\n",
       "min        1.206650      1.207530      1.206110      1.206650  0.000000e+00\n",
       "25%        1.274700      1.275740      1.273850      1.274710  3.432900e+09\n",
       "50%        1.302150      1.303100      1.301030      1.302100  5.657690e+09\n",
       "75%        1.332820      1.333680      1.332170      1.332800  8.530470e+09\n",
       "max        1.468360      1.468980      1.463760      1.468420  1.809803e+11"
      ]
     },
     "execution_count": 4,
     "metadata": {},
     "output_type": "execute_result"
    }
   ],
   "source": [
    "df.describe()"
   ]
  },
  {
   "cell_type": "markdown",
   "metadata": {
    "slideshow": {
     "slide_type": "subslide"
    }
   },
   "source": [
    "Let's add extra data! Considering USA and Canada international relationship, could we add something about oil?"
   ]
  },
  {
   "cell_type": "code",
   "execution_count": 5,
   "metadata": {
    "slideshow": {
     "slide_type": "fragment"
    }
   },
   "outputs": [],
   "source": [
    "o = pd.read_csv('BRENT.CMDUSD_Candlestick_1_Hour_BID_31.12.2014-31.05.2018.csv')"
   ]
  },
  {
   "cell_type": "code",
   "execution_count": 6,
   "metadata": {
    "scrolled": true,
    "slideshow": {
     "slide_type": "fragment"
    }
   },
   "outputs": [
    {
     "data": {
      "text/html": [
       "<div>\n",
       "<style scoped>\n",
       "    .dataframe tbody tr th:only-of-type {\n",
       "        vertical-align: middle;\n",
       "    }\n",
       "\n",
       "    .dataframe tbody tr th {\n",
       "        vertical-align: top;\n",
       "    }\n",
       "\n",
       "    .dataframe thead th {\n",
       "        text-align: right;\n",
       "    }\n",
       "</style>\n",
       "<table border=\"1\" class=\"dataframe\">\n",
       "  <thead>\n",
       "    <tr style=\"text-align: right;\">\n",
       "      <th></th>\n",
       "      <th>Gmt time</th>\n",
       "      <th>Open</th>\n",
       "      <th>High</th>\n",
       "      <th>Low</th>\n",
       "      <th>Close</th>\n",
       "      <th>Volume</th>\n",
       "    </tr>\n",
       "  </thead>\n",
       "  <tbody>\n",
       "    <tr>\n",
       "      <th>0</th>\n",
       "      <td>01.01.2015 00:00:00.000</td>\n",
       "      <td>56.83</td>\n",
       "      <td>56.83</td>\n",
       "      <td>56.83</td>\n",
       "      <td>56.83</td>\n",
       "      <td>0.0</td>\n",
       "    </tr>\n",
       "    <tr>\n",
       "      <th>1</th>\n",
       "      <td>01.01.2015 01:00:00.000</td>\n",
       "      <td>56.83</td>\n",
       "      <td>56.83</td>\n",
       "      <td>56.83</td>\n",
       "      <td>56.83</td>\n",
       "      <td>0.0</td>\n",
       "    </tr>\n",
       "    <tr>\n",
       "      <th>2</th>\n",
       "      <td>01.01.2015 02:00:00.000</td>\n",
       "      <td>56.83</td>\n",
       "      <td>56.83</td>\n",
       "      <td>56.83</td>\n",
       "      <td>56.83</td>\n",
       "      <td>0.0</td>\n",
       "    </tr>\n",
       "    <tr>\n",
       "      <th>3</th>\n",
       "      <td>01.01.2015 03:00:00.000</td>\n",
       "      <td>56.83</td>\n",
       "      <td>56.83</td>\n",
       "      <td>56.83</td>\n",
       "      <td>56.83</td>\n",
       "      <td>0.0</td>\n",
       "    </tr>\n",
       "    <tr>\n",
       "      <th>4</th>\n",
       "      <td>01.01.2015 04:00:00.000</td>\n",
       "      <td>56.83</td>\n",
       "      <td>56.83</td>\n",
       "      <td>56.83</td>\n",
       "      <td>56.83</td>\n",
       "      <td>0.0</td>\n",
       "    </tr>\n",
       "  </tbody>\n",
       "</table>\n",
       "</div>"
      ],
      "text/plain": [
       "                  Gmt time   Open   High    Low  Close  Volume\n",
       "0  01.01.2015 00:00:00.000  56.83  56.83  56.83  56.83     0.0\n",
       "1  01.01.2015 01:00:00.000  56.83  56.83  56.83  56.83     0.0\n",
       "2  01.01.2015 02:00:00.000  56.83  56.83  56.83  56.83     0.0\n",
       "3  01.01.2015 03:00:00.000  56.83  56.83  56.83  56.83     0.0\n",
       "4  01.01.2015 04:00:00.000  56.83  56.83  56.83  56.83     0.0"
      ]
     },
     "metadata": {},
     "output_type": "display_data"
    },
    {
     "data": {
      "text/html": [
       "<div>\n",
       "<style scoped>\n",
       "    .dataframe tbody tr th:only-of-type {\n",
       "        vertical-align: middle;\n",
       "    }\n",
       "\n",
       "    .dataframe tbody tr th {\n",
       "        vertical-align: top;\n",
       "    }\n",
       "\n",
       "    .dataframe thead th {\n",
       "        text-align: right;\n",
       "    }\n",
       "</style>\n",
       "<table border=\"1\" class=\"dataframe\">\n",
       "  <thead>\n",
       "    <tr style=\"text-align: right;\">\n",
       "      <th></th>\n",
       "      <th>Gmt time</th>\n",
       "      <th>Open</th>\n",
       "      <th>High</th>\n",
       "      <th>Low</th>\n",
       "      <th>Close</th>\n",
       "      <th>Volume</th>\n",
       "    </tr>\n",
       "  </thead>\n",
       "  <tbody>\n",
       "    <tr>\n",
       "      <th>21380</th>\n",
       "      <td>31.05.2018 19:00:00.000</td>\n",
       "      <td>77.835</td>\n",
       "      <td>77.865</td>\n",
       "      <td>77.625</td>\n",
       "      <td>77.655</td>\n",
       "      <td>102294.9964</td>\n",
       "    </tr>\n",
       "    <tr>\n",
       "      <th>21381</th>\n",
       "      <td>31.05.2018 20:00:00.000</td>\n",
       "      <td>77.655</td>\n",
       "      <td>77.788</td>\n",
       "      <td>77.535</td>\n",
       "      <td>77.725</td>\n",
       "      <td>125650.0036</td>\n",
       "    </tr>\n",
       "    <tr>\n",
       "      <th>21382</th>\n",
       "      <td>31.05.2018 21:00:00.000</td>\n",
       "      <td>77.725</td>\n",
       "      <td>77.725</td>\n",
       "      <td>77.725</td>\n",
       "      <td>77.725</td>\n",
       "      <td>0.0000</td>\n",
       "    </tr>\n",
       "    <tr>\n",
       "      <th>21383</th>\n",
       "      <td>31.05.2018 22:00:00.000</td>\n",
       "      <td>77.725</td>\n",
       "      <td>77.725</td>\n",
       "      <td>77.725</td>\n",
       "      <td>77.725</td>\n",
       "      <td>0.0000</td>\n",
       "    </tr>\n",
       "    <tr>\n",
       "      <th>21384</th>\n",
       "      <td>31.05.2018 23:00:00.000</td>\n",
       "      <td>77.725</td>\n",
       "      <td>77.725</td>\n",
       "      <td>77.725</td>\n",
       "      <td>77.725</td>\n",
       "      <td>0.0000</td>\n",
       "    </tr>\n",
       "  </tbody>\n",
       "</table>\n",
       "</div>"
      ],
      "text/plain": [
       "                      Gmt time    Open    High     Low   Close       Volume\n",
       "21380  31.05.2018 19:00:00.000  77.835  77.865  77.625  77.655  102294.9964\n",
       "21381  31.05.2018 20:00:00.000  77.655  77.788  77.535  77.725  125650.0036\n",
       "21382  31.05.2018 21:00:00.000  77.725  77.725  77.725  77.725       0.0000\n",
       "21383  31.05.2018 22:00:00.000  77.725  77.725  77.725  77.725       0.0000\n",
       "21384  31.05.2018 23:00:00.000  77.725  77.725  77.725  77.725       0.0000"
      ]
     },
     "metadata": {},
     "output_type": "display_data"
    }
   ],
   "source": [
    "df_oil = pd.DataFrame(o)\n",
    "display(df_oil.head())\n",
    "display(df_oil.tail())"
   ]
  },
  {
   "cell_type": "markdown",
   "metadata": {
    "slideshow": {
     "slide_type": "subslide"
    }
   },
   "source": [
    "Set the the **Gmt time** column as datetime:"
   ]
  },
  {
   "cell_type": "code",
   "execution_count": 7,
   "metadata": {
    "slideshow": {
     "slide_type": "fragment"
    }
   },
   "outputs": [],
   "source": [
    "df['datetime'] = pd.to_datetime(df['Gmt time'])"
   ]
  },
  {
   "cell_type": "markdown",
   "metadata": {
    "slideshow": {
     "slide_type": "subslide"
    }
   },
   "source": [
    "Then, why not go to the next level? **Time series! o//**"
   ]
  },
  {
   "cell_type": "code",
   "execution_count": 8,
   "metadata": {
    "slideshow": {
     "slide_type": "fragment"
    }
   },
   "outputs": [],
   "source": [
    "df = df.set_index(df['datetime'])\n",
    "df.index.names = [None]"
   ]
  },
  {
   "cell_type": "markdown",
   "metadata": {
    "slideshow": {
     "slide_type": "subslide"
    }
   },
   "source": [
    "Same thing to the oil dataframe:"
   ]
  },
  {
   "cell_type": "code",
   "execution_count": 9,
   "metadata": {
    "scrolled": true,
    "slideshow": {
     "slide_type": "fragment"
    }
   },
   "outputs": [],
   "source": [
    "df_oil['datetime'] = pd.to_datetime(df_oil['Gmt time'])\n",
    "df_oil = df_oil.set_index(df_oil['datetime'])\n",
    "df_oil.index.names = [None]"
   ]
  },
  {
   "cell_type": "markdown",
   "metadata": {
    "slideshow": {
     "slide_type": "subslide"
    }
   },
   "source": [
    "Rename everithing for **df_oil**"
   ]
  },
  {
   "cell_type": "code",
   "execution_count": 10,
   "metadata": {
    "slideshow": {
     "slide_type": "fragment"
    }
   },
   "outputs": [
    {
     "data": {
      "text/html": [
       "<div>\n",
       "<style scoped>\n",
       "    .dataframe tbody tr th:only-of-type {\n",
       "        vertical-align: middle;\n",
       "    }\n",
       "\n",
       "    .dataframe tbody tr th {\n",
       "        vertical-align: top;\n",
       "    }\n",
       "\n",
       "    .dataframe thead th {\n",
       "        text-align: right;\n",
       "    }\n",
       "</style>\n",
       "<table border=\"1\" class=\"dataframe\">\n",
       "  <thead>\n",
       "    <tr style=\"text-align: right;\">\n",
       "      <th></th>\n",
       "      <th>Open_oil</th>\n",
       "      <th>High_oil</th>\n",
       "      <th>Low_oil</th>\n",
       "      <th>Close_oil</th>\n",
       "      <th>Volume_oil</th>\n",
       "    </tr>\n",
       "  </thead>\n",
       "  <tbody>\n",
       "    <tr>\n",
       "      <th>2018-05-31 19:00:00</th>\n",
       "      <td>1.29566</td>\n",
       "      <td>1.29671</td>\n",
       "      <td>1.29541</td>\n",
       "      <td>1.29666</td>\n",
       "      <td>5.330320e+09</td>\n",
       "    </tr>\n",
       "    <tr>\n",
       "      <th>2018-05-31 20:00:00</th>\n",
       "      <td>1.29668</td>\n",
       "      <td>1.29682</td>\n",
       "      <td>1.29502</td>\n",
       "      <td>1.29563</td>\n",
       "      <td>3.116830e+09</td>\n",
       "    </tr>\n",
       "    <tr>\n",
       "      <th>2018-05-31 21:00:00</th>\n",
       "      <td>1.29563</td>\n",
       "      <td>1.29577</td>\n",
       "      <td>1.29498</td>\n",
       "      <td>1.29564</td>\n",
       "      <td>1.456650e+09</td>\n",
       "    </tr>\n",
       "    <tr>\n",
       "      <th>2018-05-31 22:00:00</th>\n",
       "      <td>1.29563</td>\n",
       "      <td>1.29563</td>\n",
       "      <td>1.29407</td>\n",
       "      <td>1.29409</td>\n",
       "      <td>1.370330e+09</td>\n",
       "    </tr>\n",
       "    <tr>\n",
       "      <th>2018-05-31 23:00:00</th>\n",
       "      <td>1.29409</td>\n",
       "      <td>1.29469</td>\n",
       "      <td>1.29406</td>\n",
       "      <td>1.29436</td>\n",
       "      <td>1.259850e+09</td>\n",
       "    </tr>\n",
       "  </tbody>\n",
       "</table>\n",
       "</div>"
      ],
      "text/plain": [
       "                     Open_oil  High_oil  Low_oil  Close_oil    Volume_oil\n",
       "2018-05-31 19:00:00   1.29566   1.29671  1.29541    1.29666  5.330320e+09\n",
       "2018-05-31 20:00:00   1.29668   1.29682  1.29502    1.29563  3.116830e+09\n",
       "2018-05-31 21:00:00   1.29563   1.29577  1.29498    1.29564  1.456650e+09\n",
       "2018-05-31 22:00:00   1.29563   1.29563  1.29407    1.29409  1.370330e+09\n",
       "2018-05-31 23:00:00   1.29409   1.29469  1.29406    1.29436  1.259850e+09"
      ]
     },
     "execution_count": 10,
     "metadata": {},
     "output_type": "execute_result"
    }
   ],
   "source": [
    "df_oil = df.loc[:,['Open', 'High', 'Low', 'Close', 'Volume']]\n",
    "\n",
    "df_oil = df_oil.rename(columns={'Open': 'Open_oil', 'High': 'High_oil', 'Low':'Low_oil', 'Close':'Close_oil', 'Volume':'Volume_oil'})\n",
    "\n",
    "df_oil.tail()"
   ]
  },
  {
   "cell_type": "code",
   "execution_count": 11,
   "metadata": {
    "scrolled": true,
    "slideshow": {
     "slide_type": "skip"
    }
   },
   "outputs": [
    {
     "data": {
      "text/plain": [
       "<matplotlib.axes._subplots.AxesSubplot at 0x1a22c175c0>"
      ]
     },
     "execution_count": 11,
     "metadata": {},
     "output_type": "execute_result"
    },
    {
     "data": {
      "image/png": "[encoded data removed]",
      "text/plain": [
       "<Figure size 432x288 with 1 Axes>"
      ]
     },
     "metadata": {
      "needs_background": "light"
     },
     "output_type": "display_data"
    }
   ],
   "source": [
    "# Just some exploration \n",
    "\n",
    "df['Close'].plot()"
   ]
  },
  {
   "cell_type": "code",
   "execution_count": 12,
   "metadata": {
    "scrolled": true,
    "slideshow": {
     "slide_type": "skip"
    }
   },
   "outputs": [
    {
     "data": {
      "text/plain": [
       "<matplotlib.axes._subplots.AxesSubplot at 0x11ee15400>"
      ]
     },
     "execution_count": 12,
     "metadata": {},
     "output_type": "execute_result"
    },
    {
     "data": {
      "image/png": "[encoded data removed]",
      "text/plain": [
       "<Figure size 432x288 with 1 Axes>"
      ]
     },
     "metadata": {
      "needs_background": "light"
     },
     "output_type": "display_data"
    }
   ],
   "source": [
    "df_oil['Close_oil'].plot()"
   ]
  },
  {
   "cell_type": "markdown",
   "metadata": {
    "slideshow": {
     "slide_type": "subslide"
    }
   },
   "source": [
    "Let's create the variable we want to predict:"
   ]
  },
  {
   "cell_type": "code",
   "execution_count": 13,
   "metadata": {
    "scrolled": true,
    "slideshow": {
     "slide_type": "fragment"
    }
   },
   "outputs": [],
   "source": [
    "# Create return (open-close) normalized\n",
    "\n",
    "df['return_next'] = df['Open'].shift(-1) - df['Close'].shift(-1)\n",
    "return_range = df['return_next'].max() - df['return_next'].min()\n",
    "df['return_next'] = df['return_next'] / return_range\n",
    "\n",
    "df['return'] = df['Open'] - df['Close']\n",
    "return_range = df['return'].max() - df['return'].min()\n",
    "df['return'] = df['return'] / return_range\n",
    "\n",
    "# If return > 0, green; otherwise, red"
   ]
  },
  {
   "cell_type": "markdown",
   "metadata": {
    "slideshow": {
     "slide_type": "subslide"
    }
   },
   "source": [
    "Now we can have the binary output:"
   ]
  },
  {
   "cell_type": "code",
   "execution_count": 14,
   "metadata": {
    "scrolled": false,
    "slideshow": {
     "slide_type": "fragment"
    }
   },
   "outputs": [
    {
     "data": {
      "text/html": [
       "<div>\n",
       "<style scoped>\n",
       "    .dataframe tbody tr th:only-of-type {\n",
       "        vertical-align: middle;\n",
       "    }\n",
       "\n",
       "    .dataframe tbody tr th {\n",
       "        vertical-align: top;\n",
       "    }\n",
       "\n",
       "    .dataframe thead th {\n",
       "        text-align: right;\n",
       "    }\n",
       "</style>\n",
       "<table border=\"1\" class=\"dataframe\">\n",
       "  <thead>\n",
       "    <tr style=\"text-align: right;\">\n",
       "      <th></th>\n",
       "      <th>Gmt time</th>\n",
       "      <th>Open</th>\n",
       "      <th>High</th>\n",
       "      <th>Low</th>\n",
       "      <th>Close</th>\n",
       "      <th>Volume</th>\n",
       "      <th>datetime</th>\n",
       "      <th>return_next</th>\n",
       "      <th>return</th>\n",
       "      <th>label</th>\n",
       "    </tr>\n",
       "  </thead>\n",
       "  <tbody>\n",
       "    <tr>\n",
       "      <th>2018-05-31 14:00:00</th>\n",
       "      <td>31.05.2018 14:00:00.000</td>\n",
       "      <td>1.29518</td>\n",
       "      <td>1.29770</td>\n",
       "      <td>1.29430</td>\n",
       "      <td>1.29718</td>\n",
       "      <td>9.841480e+09</td>\n",
       "      <td>2018-05-31 14:00:00</td>\n",
       "      <td>0.005464</td>\n",
       "      <td>-0.064288</td>\n",
       "      <td>1</td>\n",
       "    </tr>\n",
       "    <tr>\n",
       "      <th>2018-05-31 15:00:00</th>\n",
       "      <td>31.05.2018 15:00:00.000</td>\n",
       "      <td>1.29716</td>\n",
       "      <td>1.29903</td>\n",
       "      <td>1.29586</td>\n",
       "      <td>1.29699</td>\n",
       "      <td>1.169860e+10</td>\n",
       "      <td>2018-05-31 15:00:00</td>\n",
       "      <td>0.045002</td>\n",
       "      <td>0.005464</td>\n",
       "      <td>1</td>\n",
       "    </tr>\n",
       "    <tr>\n",
       "      <th>2018-05-31 16:00:00</th>\n",
       "      <td>31.05.2018 16:00:00.000</td>\n",
       "      <td>1.29699</td>\n",
       "      <td>1.29750</td>\n",
       "      <td>1.29555</td>\n",
       "      <td>1.29559</td>\n",
       "      <td>7.277670e+09</td>\n",
       "      <td>2018-05-31 16:00:00</td>\n",
       "      <td>-0.072324</td>\n",
       "      <td>0.045002</td>\n",
       "      <td>0</td>\n",
       "    </tr>\n",
       "    <tr>\n",
       "      <th>2018-05-31 17:00:00</th>\n",
       "      <td>31.05.2018 17:00:00.000</td>\n",
       "      <td>1.29560</td>\n",
       "      <td>1.29803</td>\n",
       "      <td>1.29424</td>\n",
       "      <td>1.29785</td>\n",
       "      <td>7.262840e+09</td>\n",
       "      <td>2018-05-31 17:00:00</td>\n",
       "      <td>0.071038</td>\n",
       "      <td>-0.072324</td>\n",
       "      <td>1</td>\n",
       "    </tr>\n",
       "    <tr>\n",
       "      <th>2018-05-31 18:00:00</th>\n",
       "      <td>31.05.2018 18:00:00.000</td>\n",
       "      <td>1.29785</td>\n",
       "      <td>1.29884</td>\n",
       "      <td>1.29538</td>\n",
       "      <td>1.29564</td>\n",
       "      <td>6.044530e+09</td>\n",
       "      <td>2018-05-31 18:00:00</td>\n",
       "      <td>-0.032144</td>\n",
       "      <td>0.071038</td>\n",
       "      <td>0</td>\n",
       "    </tr>\n",
       "    <tr>\n",
       "      <th>2018-05-31 19:00:00</th>\n",
       "      <td>31.05.2018 19:00:00.000</td>\n",
       "      <td>1.29566</td>\n",
       "      <td>1.29671</td>\n",
       "      <td>1.29541</td>\n",
       "      <td>1.29666</td>\n",
       "      <td>5.330320e+09</td>\n",
       "      <td>2018-05-31 19:00:00</td>\n",
       "      <td>0.033751</td>\n",
       "      <td>-0.032144</td>\n",
       "      <td>1</td>\n",
       "    </tr>\n",
       "    <tr>\n",
       "      <th>2018-05-31 20:00:00</th>\n",
       "      <td>31.05.2018 20:00:00.000</td>\n",
       "      <td>1.29668</td>\n",
       "      <td>1.29682</td>\n",
       "      <td>1.29502</td>\n",
       "      <td>1.29563</td>\n",
       "      <td>3.116830e+09</td>\n",
       "      <td>2018-05-31 20:00:00</td>\n",
       "      <td>-0.000321</td>\n",
       "      <td>0.033751</td>\n",
       "      <td>0</td>\n",
       "    </tr>\n",
       "    <tr>\n",
       "      <th>2018-05-31 21:00:00</th>\n",
       "      <td>31.05.2018 21:00:00.000</td>\n",
       "      <td>1.29563</td>\n",
       "      <td>1.29577</td>\n",
       "      <td>1.29498</td>\n",
       "      <td>1.29564</td>\n",
       "      <td>1.456650e+09</td>\n",
       "      <td>2018-05-31 21:00:00</td>\n",
       "      <td>0.049502</td>\n",
       "      <td>-0.000321</td>\n",
       "      <td>1</td>\n",
       "    </tr>\n",
       "    <tr>\n",
       "      <th>2018-05-31 22:00:00</th>\n",
       "      <td>31.05.2018 22:00:00.000</td>\n",
       "      <td>1.29563</td>\n",
       "      <td>1.29563</td>\n",
       "      <td>1.29407</td>\n",
       "      <td>1.29409</td>\n",
       "      <td>1.370330e+09</td>\n",
       "      <td>2018-05-31 22:00:00</td>\n",
       "      <td>-0.008679</td>\n",
       "      <td>0.049502</td>\n",
       "      <td>0</td>\n",
       "    </tr>\n",
       "    <tr>\n",
       "      <th>2018-05-31 23:00:00</th>\n",
       "      <td>31.05.2018 23:00:00.000</td>\n",
       "      <td>1.29409</td>\n",
       "      <td>1.29469</td>\n",
       "      <td>1.29406</td>\n",
       "      <td>1.29436</td>\n",
       "      <td>1.259850e+09</td>\n",
       "      <td>2018-05-31 23:00:00</td>\n",
       "      <td>NaN</td>\n",
       "      <td>-0.008679</td>\n",
       "      <td>0</td>\n",
       "    </tr>\n",
       "  </tbody>\n",
       "</table>\n",
       "</div>"
      ],
      "text/plain": [
       "                                    Gmt time     Open     High      Low  \\\n",
       "2018-05-31 14:00:00  31.05.2018 14:00:00.000  1.29518  1.29770  1.29430   \n",
       "2018-05-31 15:00:00  31.05.2018 15:00:00.000  1.29716  1.29903  1.29586   \n",
       "2018-05-31 16:00:00  31.05.2018 16:00:00.000  1.29699  1.29750  1.29555   \n",
       "2018-05-31 17:00:00  31.05.2018 17:00:00.000  1.29560  1.29803  1.29424   \n",
       "2018-05-31 18:00:00  31.05.2018 18:00:00.000  1.29785  1.29884  1.29538   \n",
       "2018-05-31 19:00:00  31.05.2018 19:00:00.000  1.29566  1.29671  1.29541   \n",
       "2018-05-31 20:00:00  31.05.2018 20:00:00.000  1.29668  1.29682  1.29502   \n",
       "2018-05-31 21:00:00  31.05.2018 21:00:00.000  1.29563  1.29577  1.29498   \n",
       "2018-05-31 22:00:00  31.05.2018 22:00:00.000  1.29563  1.29563  1.29407   \n",
       "2018-05-31 23:00:00  31.05.2018 23:00:00.000  1.29409  1.29469  1.29406   \n",
       "\n",
       "                       Close        Volume            datetime  return_next  \\\n",
       "2018-05-31 14:00:00  1.29718  9.841480e+09 2018-05-31 14:00:00     0.005464   \n",
       "2018-05-31 15:00:00  1.29699  1.169860e+10 2018-05-31 15:00:00     0.045002   \n",
       "2018-05-31 16:00:00  1.29559  7.277670e+09 2018-05-31 16:00:00    -0.072324   \n",
       "2018-05-31 17:00:00  1.29785  7.262840e+09 2018-05-31 17:00:00     0.071038   \n",
       "2018-05-31 18:00:00  1.29564  6.044530e+09 2018-05-31 18:00:00    -0.032144   \n",
       "2018-05-31 19:00:00  1.29666  5.330320e+09 2018-05-31 19:00:00     0.033751   \n",
       "2018-05-31 20:00:00  1.29563  3.116830e+09 2018-05-31 20:00:00    -0.000321   \n",
       "2018-05-31 21:00:00  1.29564  1.456650e+09 2018-05-31 21:00:00     0.049502   \n",
       "2018-05-31 22:00:00  1.29409  1.370330e+09 2018-05-31 22:00:00    -0.008679   \n",
       "2018-05-31 23:00:00  1.29436  1.259850e+09 2018-05-31 23:00:00          NaN   \n",
       "\n",
       "                       return  label  \n",
       "2018-05-31 14:00:00 -0.064288      1  \n",
       "2018-05-31 15:00:00  0.005464      1  \n",
       "2018-05-31 16:00:00  0.045002      0  \n",
       "2018-05-31 17:00:00 -0.072324      1  \n",
       "2018-05-31 18:00:00  0.071038      0  \n",
       "2018-05-31 19:00:00 -0.032144      1  \n",
       "2018-05-31 20:00:00  0.033751      0  \n",
       "2018-05-31 21:00:00 -0.000321      1  \n",
       "2018-05-31 22:00:00  0.049502      0  \n",
       "2018-05-31 23:00:00 -0.008679      0  "
      ]
     },
     "execution_count": 14,
     "metadata": {},
     "output_type": "execute_result"
    }
   ],
   "source": [
    "# Make label, 1 as rising price, 0 as falling price - prediction for the following timestamp\n",
    "\n",
    "df['label'] = df['return_next'].apply(lambda x: 1 if x>0.0 else 0)\n",
    "df.tail(10)"
   ]
  },
  {
   "cell_type": "markdown",
   "metadata": {
    "slideshow": {
     "slide_type": "subslide"
    }
   },
   "source": [
    "Please, drop NaN:"
   ]
  },
  {
   "cell_type": "code",
   "execution_count": 15,
   "metadata": {
    "scrolled": true,
    "slideshow": {
     "slide_type": "fragment"
    }
   },
   "outputs": [
    {
     "data": {
      "text/html": [
       "<div>\n",
       "<style scoped>\n",
       "    .dataframe tbody tr th:only-of-type {\n",
       "        vertical-align: middle;\n",
       "    }\n",
       "\n",
       "    .dataframe tbody tr th {\n",
       "        vertical-align: top;\n",
       "    }\n",
       "\n",
       "    .dataframe thead th {\n",
       "        text-align: right;\n",
       "    }\n",
       "</style>\n",
       "<table border=\"1\" class=\"dataframe\">\n",
       "  <thead>\n",
       "    <tr style=\"text-align: right;\">\n",
       "      <th></th>\n",
       "      <th>Gmt time</th>\n",
       "      <th>Open</th>\n",
       "      <th>High</th>\n",
       "      <th>Low</th>\n",
       "      <th>Close</th>\n",
       "      <th>Volume</th>\n",
       "      <th>datetime</th>\n",
       "      <th>return_next</th>\n",
       "      <th>return</th>\n",
       "      <th>label</th>\n",
       "    </tr>\n",
       "  </thead>\n",
       "  <tbody>\n",
       "    <tr>\n",
       "      <th>2018-05-31 18:00:00</th>\n",
       "      <td>31.05.2018 18:00:00.000</td>\n",
       "      <td>1.29785</td>\n",
       "      <td>1.29884</td>\n",
       "      <td>1.29538</td>\n",
       "      <td>1.29564</td>\n",
       "      <td>6.044530e+09</td>\n",
       "      <td>2018-05-31 18:00:00</td>\n",
       "      <td>-0.032144</td>\n",
       "      <td>0.071038</td>\n",
       "      <td>0</td>\n",
       "    </tr>\n",
       "    <tr>\n",
       "      <th>2018-05-31 19:00:00</th>\n",
       "      <td>31.05.2018 19:00:00.000</td>\n",
       "      <td>1.29566</td>\n",
       "      <td>1.29671</td>\n",
       "      <td>1.29541</td>\n",
       "      <td>1.29666</td>\n",
       "      <td>5.330320e+09</td>\n",
       "      <td>2018-05-31 19:00:00</td>\n",
       "      <td>0.033751</td>\n",
       "      <td>-0.032144</td>\n",
       "      <td>1</td>\n",
       "    </tr>\n",
       "    <tr>\n",
       "      <th>2018-05-31 20:00:00</th>\n",
       "      <td>31.05.2018 20:00:00.000</td>\n",
       "      <td>1.29668</td>\n",
       "      <td>1.29682</td>\n",
       "      <td>1.29502</td>\n",
       "      <td>1.29563</td>\n",
       "      <td>3.116830e+09</td>\n",
       "      <td>2018-05-31 20:00:00</td>\n",
       "      <td>-0.000321</td>\n",
       "      <td>0.033751</td>\n",
       "      <td>0</td>\n",
       "    </tr>\n",
       "    <tr>\n",
       "      <th>2018-05-31 21:00:00</th>\n",
       "      <td>31.05.2018 21:00:00.000</td>\n",
       "      <td>1.29563</td>\n",
       "      <td>1.29577</td>\n",
       "      <td>1.29498</td>\n",
       "      <td>1.29564</td>\n",
       "      <td>1.456650e+09</td>\n",
       "      <td>2018-05-31 21:00:00</td>\n",
       "      <td>0.049502</td>\n",
       "      <td>-0.000321</td>\n",
       "      <td>1</td>\n",
       "    </tr>\n",
       "    <tr>\n",
       "      <th>2018-05-31 22:00:00</th>\n",
       "      <td>31.05.2018 22:00:00.000</td>\n",
       "      <td>1.29563</td>\n",
       "      <td>1.29563</td>\n",
       "      <td>1.29407</td>\n",
       "      <td>1.29409</td>\n",
       "      <td>1.370330e+09</td>\n",
       "      <td>2018-05-31 22:00:00</td>\n",
       "      <td>-0.008679</td>\n",
       "      <td>0.049502</td>\n",
       "      <td>0</td>\n",
       "    </tr>\n",
       "  </tbody>\n",
       "</table>\n",
       "</div>"
      ],
      "text/plain": [
       "                                    Gmt time     Open     High      Low  \\\n",
       "2018-05-31 18:00:00  31.05.2018 18:00:00.000  1.29785  1.29884  1.29538   \n",
       "2018-05-31 19:00:00  31.05.2018 19:00:00.000  1.29566  1.29671  1.29541   \n",
       "2018-05-31 20:00:00  31.05.2018 20:00:00.000  1.29668  1.29682  1.29502   \n",
       "2018-05-31 21:00:00  31.05.2018 21:00:00.000  1.29563  1.29577  1.29498   \n",
       "2018-05-31 22:00:00  31.05.2018 22:00:00.000  1.29563  1.29563  1.29407   \n",
       "\n",
       "                       Close        Volume            datetime  return_next  \\\n",
       "2018-05-31 18:00:00  1.29564  6.044530e+09 2018-05-31 18:00:00    -0.032144   \n",
       "2018-05-31 19:00:00  1.29666  5.330320e+09 2018-05-31 19:00:00     0.033751   \n",
       "2018-05-31 20:00:00  1.29563  3.116830e+09 2018-05-31 20:00:00    -0.000321   \n",
       "2018-05-31 21:00:00  1.29564  1.456650e+09 2018-05-31 21:00:00     0.049502   \n",
       "2018-05-31 22:00:00  1.29409  1.370330e+09 2018-05-31 22:00:00    -0.008679   \n",
       "\n",
       "                       return  label  \n",
       "2018-05-31 18:00:00  0.071038      0  \n",
       "2018-05-31 19:00:00 -0.032144      1  \n",
       "2018-05-31 20:00:00  0.033751      0  \n",
       "2018-05-31 21:00:00 -0.000321      1  \n",
       "2018-05-31 22:00:00  0.049502      0  "
      ]
     },
     "execution_count": 15,
     "metadata": {},
     "output_type": "execute_result"
    }
   ],
   "source": [
    "df.dropna(inplace=True)\n",
    "df.tail()"
   ]
  },
  {
   "cell_type": "markdown",
   "metadata": {
    "slideshow": {
     "slide_type": "subslide"
    }
   },
   "source": [
    "Let's make it simple:"
   ]
  },
  {
   "cell_type": "code",
   "execution_count": 16,
   "metadata": {
    "scrolled": false,
    "slideshow": {
     "slide_type": "fragment"
    }
   },
   "outputs": [
    {
     "data": {
      "text/html": [
       "<div>\n",
       "<style scoped>\n",
       "    .dataframe tbody tr th:only-of-type {\n",
       "        vertical-align: middle;\n",
       "    }\n",
       "\n",
       "    .dataframe tbody tr th {\n",
       "        vertical-align: top;\n",
       "    }\n",
       "\n",
       "    .dataframe thead th {\n",
       "        text-align: right;\n",
       "    }\n",
       "</style>\n",
       "<table border=\"1\" class=\"dataframe\">\n",
       "  <thead>\n",
       "    <tr style=\"text-align: right;\">\n",
       "      <th></th>\n",
       "      <th>Open</th>\n",
       "      <th>High</th>\n",
       "      <th>Low</th>\n",
       "      <th>Close</th>\n",
       "      <th>Volume</th>\n",
       "      <th>return</th>\n",
       "      <th>label</th>\n",
       "    </tr>\n",
       "  </thead>\n",
       "  <tbody>\n",
       "    <tr>\n",
       "      <th>2018-05-31 18:00:00</th>\n",
       "      <td>1.29785</td>\n",
       "      <td>1.29884</td>\n",
       "      <td>1.29538</td>\n",
       "      <td>1.29564</td>\n",
       "      <td>6.044530e+09</td>\n",
       "      <td>0.071038</td>\n",
       "      <td>0</td>\n",
       "    </tr>\n",
       "    <tr>\n",
       "      <th>2018-05-31 19:00:00</th>\n",
       "      <td>1.29566</td>\n",
       "      <td>1.29671</td>\n",
       "      <td>1.29541</td>\n",
       "      <td>1.29666</td>\n",
       "      <td>5.330320e+09</td>\n",
       "      <td>-0.032144</td>\n",
       "      <td>1</td>\n",
       "    </tr>\n",
       "    <tr>\n",
       "      <th>2018-05-31 20:00:00</th>\n",
       "      <td>1.29668</td>\n",
       "      <td>1.29682</td>\n",
       "      <td>1.29502</td>\n",
       "      <td>1.29563</td>\n",
       "      <td>3.116830e+09</td>\n",
       "      <td>0.033751</td>\n",
       "      <td>0</td>\n",
       "    </tr>\n",
       "    <tr>\n",
       "      <th>2018-05-31 21:00:00</th>\n",
       "      <td>1.29563</td>\n",
       "      <td>1.29577</td>\n",
       "      <td>1.29498</td>\n",
       "      <td>1.29564</td>\n",
       "      <td>1.456650e+09</td>\n",
       "      <td>-0.000321</td>\n",
       "      <td>1</td>\n",
       "    </tr>\n",
       "    <tr>\n",
       "      <th>2018-05-31 22:00:00</th>\n",
       "      <td>1.29563</td>\n",
       "      <td>1.29563</td>\n",
       "      <td>1.29407</td>\n",
       "      <td>1.29409</td>\n",
       "      <td>1.370330e+09</td>\n",
       "      <td>0.049502</td>\n",
       "      <td>0</td>\n",
       "    </tr>\n",
       "  </tbody>\n",
       "</table>\n",
       "</div>"
      ],
      "text/plain": [
       "                        Open     High      Low    Close        Volume  \\\n",
       "2018-05-31 18:00:00  1.29785  1.29884  1.29538  1.29564  6.044530e+09   \n",
       "2018-05-31 19:00:00  1.29566  1.29671  1.29541  1.29666  5.330320e+09   \n",
       "2018-05-31 20:00:00  1.29668  1.29682  1.29502  1.29563  3.116830e+09   \n",
       "2018-05-31 21:00:00  1.29563  1.29577  1.29498  1.29564  1.456650e+09   \n",
       "2018-05-31 22:00:00  1.29563  1.29563  1.29407  1.29409  1.370330e+09   \n",
       "\n",
       "                       return  label  \n",
       "2018-05-31 18:00:00  0.071038      0  \n",
       "2018-05-31 19:00:00 -0.032144      1  \n",
       "2018-05-31 20:00:00  0.033751      0  \n",
       "2018-05-31 21:00:00 -0.000321      1  \n",
       "2018-05-31 22:00:00  0.049502      0  "
      ]
     },
     "execution_count": 16,
     "metadata": {},
     "output_type": "execute_result"
    }
   ],
   "source": [
    "df2 = df.copy()\n",
    "\n",
    "df = df.loc[:,['Open', 'High', 'Low', 'Close', 'Volume', 'return', 'label']]\n",
    "df.tail()  "
   ]
  },
  {
   "cell_type": "markdown",
   "metadata": {
    "slideshow": {
     "slide_type": "subslide"
    }
   },
   "source": [
    "Then, make it one:"
   ]
  },
  {
   "cell_type": "code",
   "execution_count": 17,
   "metadata": {
    "scrolled": true,
    "slideshow": {
     "slide_type": "fragment"
    }
   },
   "outputs": [
    {
     "data": {
      "text/html": [
       "<div>\n",
       "<style scoped>\n",
       "    .dataframe tbody tr th:only-of-type {\n",
       "        vertical-align: middle;\n",
       "    }\n",
       "\n",
       "    .dataframe tbody tr th {\n",
       "        vertical-align: top;\n",
       "    }\n",
       "\n",
       "    .dataframe thead th {\n",
       "        text-align: right;\n",
       "    }\n",
       "</style>\n",
       "<table border=\"1\" class=\"dataframe\">\n",
       "  <thead>\n",
       "    <tr style=\"text-align: right;\">\n",
       "      <th></th>\n",
       "      <th>Open</th>\n",
       "      <th>High</th>\n",
       "      <th>Low</th>\n",
       "      <th>Close</th>\n",
       "      <th>Volume</th>\n",
       "      <th>return</th>\n",
       "      <th>label</th>\n",
       "      <th>Open_oil</th>\n",
       "      <th>High_oil</th>\n",
       "      <th>Low_oil</th>\n",
       "      <th>Close_oil</th>\n",
       "      <th>Volume_oil</th>\n",
       "    </tr>\n",
       "  </thead>\n",
       "  <tbody>\n",
       "    <tr>\n",
       "      <th>2016-01-01 00:00:00</th>\n",
       "      <td>1.38326</td>\n",
       "      <td>1.38326</td>\n",
       "      <td>1.38326</td>\n",
       "      <td>1.38326</td>\n",
       "      <td>0.0</td>\n",
       "      <td>0.0</td>\n",
       "      <td>0</td>\n",
       "      <td>1.38326</td>\n",
       "      <td>1.38326</td>\n",
       "      <td>1.38326</td>\n",
       "      <td>1.38326</td>\n",
       "      <td>0.0</td>\n",
       "    </tr>\n",
       "    <tr>\n",
       "      <th>2016-01-01 01:00:00</th>\n",
       "      <td>1.38326</td>\n",
       "      <td>1.38326</td>\n",
       "      <td>1.38326</td>\n",
       "      <td>1.38326</td>\n",
       "      <td>0.0</td>\n",
       "      <td>0.0</td>\n",
       "      <td>0</td>\n",
       "      <td>1.38326</td>\n",
       "      <td>1.38326</td>\n",
       "      <td>1.38326</td>\n",
       "      <td>1.38326</td>\n",
       "      <td>0.0</td>\n",
       "    </tr>\n",
       "    <tr>\n",
       "      <th>2016-01-01 02:00:00</th>\n",
       "      <td>1.38326</td>\n",
       "      <td>1.38326</td>\n",
       "      <td>1.38326</td>\n",
       "      <td>1.38326</td>\n",
       "      <td>0.0</td>\n",
       "      <td>0.0</td>\n",
       "      <td>0</td>\n",
       "      <td>1.38326</td>\n",
       "      <td>1.38326</td>\n",
       "      <td>1.38326</td>\n",
       "      <td>1.38326</td>\n",
       "      <td>0.0</td>\n",
       "    </tr>\n",
       "    <tr>\n",
       "      <th>2016-01-01 03:00:00</th>\n",
       "      <td>1.38326</td>\n",
       "      <td>1.38326</td>\n",
       "      <td>1.38326</td>\n",
       "      <td>1.38326</td>\n",
       "      <td>0.0</td>\n",
       "      <td>0.0</td>\n",
       "      <td>0</td>\n",
       "      <td>1.38326</td>\n",
       "      <td>1.38326</td>\n",
       "      <td>1.38326</td>\n",
       "      <td>1.38326</td>\n",
       "      <td>0.0</td>\n",
       "    </tr>\n",
       "    <tr>\n",
       "      <th>2016-01-01 04:00:00</th>\n",
       "      <td>1.38326</td>\n",
       "      <td>1.38326</td>\n",
       "      <td>1.38326</td>\n",
       "      <td>1.38326</td>\n",
       "      <td>0.0</td>\n",
       "      <td>0.0</td>\n",
       "      <td>0</td>\n",
       "      <td>1.38326</td>\n",
       "      <td>1.38326</td>\n",
       "      <td>1.38326</td>\n",
       "      <td>1.38326</td>\n",
       "      <td>0.0</td>\n",
       "    </tr>\n",
       "  </tbody>\n",
       "</table>\n",
       "</div>"
      ],
      "text/plain": [
       "                        Open     High      Low    Close  Volume  return  \\\n",
       "2016-01-01 00:00:00  1.38326  1.38326  1.38326  1.38326     0.0     0.0   \n",
       "2016-01-01 01:00:00  1.38326  1.38326  1.38326  1.38326     0.0     0.0   \n",
       "2016-01-01 02:00:00  1.38326  1.38326  1.38326  1.38326     0.0     0.0   \n",
       "2016-01-01 03:00:00  1.38326  1.38326  1.38326  1.38326     0.0     0.0   \n",
       "2016-01-01 04:00:00  1.38326  1.38326  1.38326  1.38326     0.0     0.0   \n",
       "\n",
       "                     label  Open_oil  High_oil  Low_oil  Close_oil  Volume_oil  \n",
       "2016-01-01 00:00:00      0   1.38326   1.38326  1.38326    1.38326         0.0  \n",
       "2016-01-01 01:00:00      0   1.38326   1.38326  1.38326    1.38326         0.0  \n",
       "2016-01-01 02:00:00      0   1.38326   1.38326  1.38326    1.38326         0.0  \n",
       "2016-01-01 03:00:00      0   1.38326   1.38326  1.38326    1.38326         0.0  \n",
       "2016-01-01 04:00:00      0   1.38326   1.38326  1.38326    1.38326         0.0  "
      ]
     },
     "execution_count": 17,
     "metadata": {},
     "output_type": "execute_result"
    }
   ],
   "source": [
    "df = pd.concat([df,df_oil],axis=1, join='inner')\n",
    "df.head() "
   ]
  },
  {
   "cell_type": "markdown",
   "metadata": {
    "slideshow": {
     "slide_type": "slide"
    }
   },
   "source": [
    "## Creating more features\n"
   ]
  },
  {
   "cell_type": "markdown",
   "metadata": {
    "slideshow": {
     "slide_type": "subslide"
    }
   },
   "source": [
    "or *featuring engineering*"
   ]
  },
  {
   "cell_type": "code",
   "execution_count": 18,
   "metadata": {
    "scrolled": false,
    "slideshow": {
     "slide_type": "fragment"
    }
   },
   "outputs": [
    {
     "data": {
      "text/html": [
       "<div>\n",
       "<style scoped>\n",
       "    .dataframe tbody tr th:only-of-type {\n",
       "        vertical-align: middle;\n",
       "    }\n",
       "\n",
       "    .dataframe tbody tr th {\n",
       "        vertical-align: top;\n",
       "    }\n",
       "\n",
       "    .dataframe thead th {\n",
       "        text-align: right;\n",
       "    }\n",
       "</style>\n",
       "<table border=\"1\" class=\"dataframe\">\n",
       "  <thead>\n",
       "    <tr style=\"text-align: right;\">\n",
       "      <th></th>\n",
       "      <th>Open</th>\n",
       "      <th>High</th>\n",
       "      <th>Low</th>\n",
       "      <th>Close</th>\n",
       "      <th>Volume</th>\n",
       "      <th>return</th>\n",
       "      <th>label</th>\n",
       "      <th>Open_oil</th>\n",
       "      <th>High_oil</th>\n",
       "      <th>Low_oil</th>\n",
       "      <th>Close_oil</th>\n",
       "      <th>Volume_oil</th>\n",
       "      <th>year</th>\n",
       "      <th>month</th>\n",
       "      <th>day</th>\n",
       "      <th>hour</th>\n",
       "    </tr>\n",
       "  </thead>\n",
       "  <tbody>\n",
       "    <tr>\n",
       "      <th>2016-01-01 00:00:00</th>\n",
       "      <td>1.38326</td>\n",
       "      <td>1.38326</td>\n",
       "      <td>1.38326</td>\n",
       "      <td>1.38326</td>\n",
       "      <td>0.0</td>\n",
       "      <td>0.0</td>\n",
       "      <td>0</td>\n",
       "      <td>1.38326</td>\n",
       "      <td>1.38326</td>\n",
       "      <td>1.38326</td>\n",
       "      <td>1.38326</td>\n",
       "      <td>0.0</td>\n",
       "      <td>2016</td>\n",
       "      <td>1</td>\n",
       "      <td>1</td>\n",
       "      <td>0</td>\n",
       "    </tr>\n",
       "    <tr>\n",
       "      <th>2016-01-01 01:00:00</th>\n",
       "      <td>1.38326</td>\n",
       "      <td>1.38326</td>\n",
       "      <td>1.38326</td>\n",
       "      <td>1.38326</td>\n",
       "      <td>0.0</td>\n",
       "      <td>0.0</td>\n",
       "      <td>0</td>\n",
       "      <td>1.38326</td>\n",
       "      <td>1.38326</td>\n",
       "      <td>1.38326</td>\n",
       "      <td>1.38326</td>\n",
       "      <td>0.0</td>\n",
       "      <td>2016</td>\n",
       "      <td>1</td>\n",
       "      <td>1</td>\n",
       "      <td>1</td>\n",
       "    </tr>\n",
       "    <tr>\n",
       "      <th>2016-01-01 02:00:00</th>\n",
       "      <td>1.38326</td>\n",
       "      <td>1.38326</td>\n",
       "      <td>1.38326</td>\n",
       "      <td>1.38326</td>\n",
       "      <td>0.0</td>\n",
       "      <td>0.0</td>\n",
       "      <td>0</td>\n",
       "      <td>1.38326</td>\n",
       "      <td>1.38326</td>\n",
       "      <td>1.38326</td>\n",
       "      <td>1.38326</td>\n",
       "      <td>0.0</td>\n",
       "      <td>2016</td>\n",
       "      <td>1</td>\n",
       "      <td>1</td>\n",
       "      <td>2</td>\n",
       "    </tr>\n",
       "    <tr>\n",
       "      <th>2016-01-01 03:00:00</th>\n",
       "      <td>1.38326</td>\n",
       "      <td>1.38326</td>\n",
       "      <td>1.38326</td>\n",
       "      <td>1.38326</td>\n",
       "      <td>0.0</td>\n",
       "      <td>0.0</td>\n",
       "      <td>0</td>\n",
       "      <td>1.38326</td>\n",
       "      <td>1.38326</td>\n",
       "      <td>1.38326</td>\n",
       "      <td>1.38326</td>\n",
       "      <td>0.0</td>\n",
       "      <td>2016</td>\n",
       "      <td>1</td>\n",
       "      <td>1</td>\n",
       "      <td>3</td>\n",
       "    </tr>\n",
       "    <tr>\n",
       "      <th>2016-01-01 04:00:00</th>\n",
       "      <td>1.38326</td>\n",
       "      <td>1.38326</td>\n",
       "      <td>1.38326</td>\n",
       "      <td>1.38326</td>\n",
       "      <td>0.0</td>\n",
       "      <td>0.0</td>\n",
       "      <td>0</td>\n",
       "      <td>1.38326</td>\n",
       "      <td>1.38326</td>\n",
       "      <td>1.38326</td>\n",
       "      <td>1.38326</td>\n",
       "      <td>0.0</td>\n",
       "      <td>2016</td>\n",
       "      <td>1</td>\n",
       "      <td>1</td>\n",
       "      <td>4</td>\n",
       "    </tr>\n",
       "  </tbody>\n",
       "</table>\n",
       "</div>"
      ],
      "text/plain": [
       "                        Open     High      Low    Close  Volume  return  \\\n",
       "2016-01-01 00:00:00  1.38326  1.38326  1.38326  1.38326     0.0     0.0   \n",
       "2016-01-01 01:00:00  1.38326  1.38326  1.38326  1.38326     0.0     0.0   \n",
       "2016-01-01 02:00:00  1.38326  1.38326  1.38326  1.38326     0.0     0.0   \n",
       "2016-01-01 03:00:00  1.38326  1.38326  1.38326  1.38326     0.0     0.0   \n",
       "2016-01-01 04:00:00  1.38326  1.38326  1.38326  1.38326     0.0     0.0   \n",
       "\n",
       "                     label  Open_oil  High_oil  Low_oil  Close_oil  \\\n",
       "2016-01-01 00:00:00      0   1.38326   1.38326  1.38326    1.38326   \n",
       "2016-01-01 01:00:00      0   1.38326   1.38326  1.38326    1.38326   \n",
       "2016-01-01 02:00:00      0   1.38326   1.38326  1.38326    1.38326   \n",
       "2016-01-01 03:00:00      0   1.38326   1.38326  1.38326    1.38326   \n",
       "2016-01-01 04:00:00      0   1.38326   1.38326  1.38326    1.38326   \n",
       "\n",
       "                     Volume_oil  year  month  day  hour  \n",
       "2016-01-01 00:00:00         0.0  2016      1    1     0  \n",
       "2016-01-01 01:00:00         0.0  2016      1    1     1  \n",
       "2016-01-01 02:00:00         0.0  2016      1    1     2  \n",
       "2016-01-01 03:00:00         0.0  2016      1    1     3  \n",
       "2016-01-01 04:00:00         0.0  2016      1    1     4  "
      ]
     },
     "execution_count": 18,
     "metadata": {},
     "output_type": "execute_result"
    }
   ],
   "source": [
    "df['year'] = df.index.year \n",
    "df['month'] = df.index.month\n",
    "df['day'] = df.index.day\n",
    "\n",
    "df['hour'] = df.index.hour\n",
    "\n",
    "\n",
    "df.head()"
   ]
  },
  {
   "cell_type": "markdown",
   "metadata": {
    "slideshow": {
     "slide_type": "fragment"
    }
   },
   "source": [
    "**Next step**: Make all these features dummy variables"
   ]
  },
  {
   "cell_type": "code",
   "execution_count": 19,
   "metadata": {
    "scrolled": true,
    "slideshow": {
     "slide_type": "skip"
    }
   },
   "outputs": [
    {
     "data": {
      "text/plain": [
       "Open          float64\n",
       "High          float64\n",
       "Low           float64\n",
       "Close         float64\n",
       "Volume        float64\n",
       "return        float64\n",
       "label           int64\n",
       "Open_oil      float64\n",
       "High_oil      float64\n",
       "Low_oil       float64\n",
       "Close_oil     float64\n",
       "Volume_oil    float64\n",
       "year            int64\n",
       "month           int64\n",
       "day             int64\n",
       "hour            int64\n",
       "dtype: object"
      ]
     },
     "execution_count": 19,
     "metadata": {},
     "output_type": "execute_result"
    }
   ],
   "source": [
    "df.dtypes"
   ]
  },
  {
   "cell_type": "markdown",
   "metadata": {
    "slideshow": {
     "slide_type": "slide"
    }
   },
   "source": [
    "## Choosing a timeframe to trade"
   ]
  },
  {
   "cell_type": "markdown",
   "metadata": {
    "slideshow": {
     "slide_type": "subslide"
    }
   },
   "source": [
    "Limiting the dataframe: from 3:00 to 12:00 (10 timestamps) \n"
   ]
  },
  {
   "cell_type": "code",
   "execution_count": 20,
   "metadata": {
    "scrolled": false,
    "slideshow": {
     "slide_type": "fragment"
    }
   },
   "outputs": [
    {
     "data": {
      "text/html": [
       "<div>\n",
       "<style scoped>\n",
       "    .dataframe tbody tr th:only-of-type {\n",
       "        vertical-align: middle;\n",
       "    }\n",
       "\n",
       "    .dataframe tbody tr th {\n",
       "        vertical-align: top;\n",
       "    }\n",
       "\n",
       "    .dataframe thead th {\n",
       "        text-align: right;\n",
       "    }\n",
       "</style>\n",
       "<table border=\"1\" class=\"dataframe\">\n",
       "  <thead>\n",
       "    <tr style=\"text-align: right;\">\n",
       "      <th></th>\n",
       "      <th>Open</th>\n",
       "      <th>High</th>\n",
       "      <th>Low</th>\n",
       "      <th>Close</th>\n",
       "      <th>Volume</th>\n",
       "      <th>return</th>\n",
       "      <th>label</th>\n",
       "      <th>Open_oil</th>\n",
       "      <th>High_oil</th>\n",
       "      <th>Low_oil</th>\n",
       "      <th>Close_oil</th>\n",
       "      <th>Volume_oil</th>\n",
       "      <th>year</th>\n",
       "      <th>month</th>\n",
       "      <th>day</th>\n",
       "      <th>hour</th>\n",
       "    </tr>\n",
       "  </thead>\n",
       "  <tbody>\n",
       "    <tr>\n",
       "      <th>2018-05-30 11:00:00</th>\n",
       "      <td>1.29863</td>\n",
       "      <td>1.29885</td>\n",
       "      <td>1.29705</td>\n",
       "      <td>1.29715</td>\n",
       "      <td>6.624660e+09</td>\n",
       "      <td>0.047573</td>\n",
       "      <td>0</td>\n",
       "      <td>1.29863</td>\n",
       "      <td>1.29885</td>\n",
       "      <td>1.29705</td>\n",
       "      <td>1.29715</td>\n",
       "      <td>6.624660e+09</td>\n",
       "      <td>2018</td>\n",
       "      <td>5</td>\n",
       "      <td>30</td>\n",
       "      <td>11</td>\n",
       "    </tr>\n",
       "    <tr>\n",
       "      <th>2018-05-30 12:00:00</th>\n",
       "      <td>1.29717</td>\n",
       "      <td>1.29863</td>\n",
       "      <td>1.29527</td>\n",
       "      <td>1.29781</td>\n",
       "      <td>1.067015e+10</td>\n",
       "      <td>-0.020572</td>\n",
       "      <td>0</td>\n",
       "      <td>1.29717</td>\n",
       "      <td>1.29863</td>\n",
       "      <td>1.29527</td>\n",
       "      <td>1.29781</td>\n",
       "      <td>1.067015e+10</td>\n",
       "      <td>2018</td>\n",
       "      <td>5</td>\n",
       "      <td>30</td>\n",
       "      <td>12</td>\n",
       "    </tr>\n",
       "    <tr>\n",
       "      <th>2018-05-31 03:00:00</th>\n",
       "      <td>1.28779</td>\n",
       "      <td>1.28788</td>\n",
       "      <td>1.28669</td>\n",
       "      <td>1.28719</td>\n",
       "      <td>2.857670e+09</td>\n",
       "      <td>0.019286</td>\n",
       "      <td>1</td>\n",
       "      <td>1.28779</td>\n",
       "      <td>1.28788</td>\n",
       "      <td>1.28669</td>\n",
       "      <td>1.28719</td>\n",
       "      <td>2.857670e+09</td>\n",
       "      <td>2018</td>\n",
       "      <td>5</td>\n",
       "      <td>31</td>\n",
       "      <td>3</td>\n",
       "    </tr>\n",
       "    <tr>\n",
       "      <th>2018-05-31 04:00:00</th>\n",
       "      <td>1.28719</td>\n",
       "      <td>1.28725</td>\n",
       "      <td>1.28647</td>\n",
       "      <td>1.28677</td>\n",
       "      <td>1.907510e+09</td>\n",
       "      <td>0.013500</td>\n",
       "      <td>1</td>\n",
       "      <td>1.28719</td>\n",
       "      <td>1.28725</td>\n",
       "      <td>1.28647</td>\n",
       "      <td>1.28677</td>\n",
       "      <td>1.907510e+09</td>\n",
       "      <td>2018</td>\n",
       "      <td>5</td>\n",
       "      <td>31</td>\n",
       "      <td>4</td>\n",
       "    </tr>\n",
       "    <tr>\n",
       "      <th>2018-05-31 05:00:00</th>\n",
       "      <td>1.28677</td>\n",
       "      <td>1.28707</td>\n",
       "      <td>1.28598</td>\n",
       "      <td>1.28673</td>\n",
       "      <td>3.887940e+09</td>\n",
       "      <td>0.001286</td>\n",
       "      <td>0</td>\n",
       "      <td>1.28677</td>\n",
       "      <td>1.28707</td>\n",
       "      <td>1.28598</td>\n",
       "      <td>1.28673</td>\n",
       "      <td>3.887940e+09</td>\n",
       "      <td>2018</td>\n",
       "      <td>5</td>\n",
       "      <td>31</td>\n",
       "      <td>5</td>\n",
       "    </tr>\n",
       "    <tr>\n",
       "      <th>2018-05-31 06:00:00</th>\n",
       "      <td>1.28678</td>\n",
       "      <td>1.28758</td>\n",
       "      <td>1.28654</td>\n",
       "      <td>1.28734</td>\n",
       "      <td>6.998760e+09</td>\n",
       "      <td>-0.018001</td>\n",
       "      <td>1</td>\n",
       "      <td>1.28678</td>\n",
       "      <td>1.28758</td>\n",
       "      <td>1.28654</td>\n",
       "      <td>1.28734</td>\n",
       "      <td>6.998760e+09</td>\n",
       "      <td>2018</td>\n",
       "      <td>5</td>\n",
       "      <td>31</td>\n",
       "      <td>6</td>\n",
       "    </tr>\n",
       "    <tr>\n",
       "      <th>2018-05-31 07:00:00</th>\n",
       "      <td>1.28735</td>\n",
       "      <td>1.28747</td>\n",
       "      <td>1.28452</td>\n",
       "      <td>1.28482</td>\n",
       "      <td>7.630360e+09</td>\n",
       "      <td>0.081324</td>\n",
       "      <td>1</td>\n",
       "      <td>1.28735</td>\n",
       "      <td>1.28747</td>\n",
       "      <td>1.28452</td>\n",
       "      <td>1.28482</td>\n",
       "      <td>7.630360e+09</td>\n",
       "      <td>2018</td>\n",
       "      <td>5</td>\n",
       "      <td>31</td>\n",
       "      <td>7</td>\n",
       "    </tr>\n",
       "    <tr>\n",
       "      <th>2018-05-31 08:00:00</th>\n",
       "      <td>1.28484</td>\n",
       "      <td>1.28538</td>\n",
       "      <td>1.28356</td>\n",
       "      <td>1.28400</td>\n",
       "      <td>5.385360e+09</td>\n",
       "      <td>0.027001</td>\n",
       "      <td>0</td>\n",
       "      <td>1.28484</td>\n",
       "      <td>1.28538</td>\n",
       "      <td>1.28356</td>\n",
       "      <td>1.28400</td>\n",
       "      <td>5.385360e+09</td>\n",
       "      <td>2018</td>\n",
       "      <td>5</td>\n",
       "      <td>31</td>\n",
       "      <td>8</td>\n",
       "    </tr>\n",
       "    <tr>\n",
       "      <th>2018-05-31 09:00:00</th>\n",
       "      <td>1.28400</td>\n",
       "      <td>1.28539</td>\n",
       "      <td>1.28394</td>\n",
       "      <td>1.28470</td>\n",
       "      <td>5.552970e+09</td>\n",
       "      <td>-0.022501</td>\n",
       "      <td>1</td>\n",
       "      <td>1.28400</td>\n",
       "      <td>1.28539</td>\n",
       "      <td>1.28394</td>\n",
       "      <td>1.28470</td>\n",
       "      <td>5.552970e+09</td>\n",
       "      <td>2018</td>\n",
       "      <td>5</td>\n",
       "      <td>31</td>\n",
       "      <td>9</td>\n",
       "    </tr>\n",
       "    <tr>\n",
       "      <th>2018-05-31 10:00:00</th>\n",
       "      <td>1.28472</td>\n",
       "      <td>1.28583</td>\n",
       "      <td>1.28180</td>\n",
       "      <td>1.28259</td>\n",
       "      <td>5.881380e+09</td>\n",
       "      <td>0.068467</td>\n",
       "      <td>0</td>\n",
       "      <td>1.28472</td>\n",
       "      <td>1.28583</td>\n",
       "      <td>1.28180</td>\n",
       "      <td>1.28259</td>\n",
       "      <td>5.881380e+09</td>\n",
       "      <td>2018</td>\n",
       "      <td>5</td>\n",
       "      <td>31</td>\n",
       "      <td>10</td>\n",
       "    </tr>\n",
       "    <tr>\n",
       "      <th>2018-05-31 11:00:00</th>\n",
       "      <td>1.28264</td>\n",
       "      <td>1.28514</td>\n",
       "      <td>1.28251</td>\n",
       "      <td>1.28474</td>\n",
       "      <td>6.608530e+09</td>\n",
       "      <td>-0.067502</td>\n",
       "      <td>0</td>\n",
       "      <td>1.28264</td>\n",
       "      <td>1.28514</td>\n",
       "      <td>1.28251</td>\n",
       "      <td>1.28474</td>\n",
       "      <td>6.608530e+09</td>\n",
       "      <td>2018</td>\n",
       "      <td>5</td>\n",
       "      <td>31</td>\n",
       "      <td>11</td>\n",
       "    </tr>\n",
       "    <tr>\n",
       "      <th>2018-05-31 12:00:00</th>\n",
       "      <td>1.28474</td>\n",
       "      <td>1.28987</td>\n",
       "      <td>1.28472</td>\n",
       "      <td>1.28985</td>\n",
       "      <td>1.079586e+10</td>\n",
       "      <td>-0.164256</td>\n",
       "      <td>0</td>\n",
       "      <td>1.28474</td>\n",
       "      <td>1.28987</td>\n",
       "      <td>1.28472</td>\n",
       "      <td>1.28985</td>\n",
       "      <td>1.079586e+10</td>\n",
       "      <td>2018</td>\n",
       "      <td>5</td>\n",
       "      <td>31</td>\n",
       "      <td>12</td>\n",
       "    </tr>\n",
       "  </tbody>\n",
       "</table>\n",
       "</div>"
      ],
      "text/plain": [
       "                        Open     High      Low    Close        Volume  \\\n",
       "2018-05-30 11:00:00  1.29863  1.29885  1.29705  1.29715  6.624660e+09   \n",
       "2018-05-30 12:00:00  1.29717  1.29863  1.29527  1.29781  1.067015e+10   \n",
       "2018-05-31 03:00:00  1.28779  1.28788  1.28669  1.28719  2.857670e+09   \n",
       "2018-05-31 04:00:00  1.28719  1.28725  1.28647  1.28677  1.907510e+09   \n",
       "2018-05-31 05:00:00  1.28677  1.28707  1.28598  1.28673  3.887940e+09   \n",
       "2018-05-31 06:00:00  1.28678  1.28758  1.28654  1.28734  6.998760e+09   \n",
       "2018-05-31 07:00:00  1.28735  1.28747  1.28452  1.28482  7.630360e+09   \n",
       "2018-05-31 08:00:00  1.28484  1.28538  1.28356  1.28400  5.385360e+09   \n",
       "2018-05-31 09:00:00  1.28400  1.28539  1.28394  1.28470  5.552970e+09   \n",
       "2018-05-31 10:00:00  1.28472  1.28583  1.28180  1.28259  5.881380e+09   \n",
       "2018-05-31 11:00:00  1.28264  1.28514  1.28251  1.28474  6.608530e+09   \n",
       "2018-05-31 12:00:00  1.28474  1.28987  1.28472  1.28985  1.079586e+10   \n",
       "\n",
       "                       return  label  Open_oil  High_oil  Low_oil  Close_oil  \\\n",
       "2018-05-30 11:00:00  0.047573      0   1.29863   1.29885  1.29705    1.29715   \n",
       "2018-05-30 12:00:00 -0.020572      0   1.29717   1.29863  1.29527    1.29781   \n",
       "2018-05-31 03:00:00  0.019286      1   1.28779   1.28788  1.28669    1.28719   \n",
       "2018-05-31 04:00:00  0.013500      1   1.28719   1.28725  1.28647    1.28677   \n",
       "2018-05-31 05:00:00  0.001286      0   1.28677   1.28707  1.28598    1.28673   \n",
       "2018-05-31 06:00:00 -0.018001      1   1.28678   1.28758  1.28654    1.28734   \n",
       "2018-05-31 07:00:00  0.081324      1   1.28735   1.28747  1.28452    1.28482   \n",
       "2018-05-31 08:00:00  0.027001      0   1.28484   1.28538  1.28356    1.28400   \n",
       "2018-05-31 09:00:00 -0.022501      1   1.28400   1.28539  1.28394    1.28470   \n",
       "2018-05-31 10:00:00  0.068467      0   1.28472   1.28583  1.28180    1.28259   \n",
       "2018-05-31 11:00:00 -0.067502      0   1.28264   1.28514  1.28251    1.28474   \n",
       "2018-05-31 12:00:00 -0.164256      0   1.28474   1.28987  1.28472    1.28985   \n",
       "\n",
       "                       Volume_oil  year  month  day  hour  \n",
       "2018-05-30 11:00:00  6.624660e+09  2018      5   30    11  \n",
       "2018-05-30 12:00:00  1.067015e+10  2018      5   30    12  \n",
       "2018-05-31 03:00:00  2.857670e+09  2018      5   31     3  \n",
       "2018-05-31 04:00:00  1.907510e+09  2018      5   31     4  \n",
       "2018-05-31 05:00:00  3.887940e+09  2018      5   31     5  \n",
       "2018-05-31 06:00:00  6.998760e+09  2018      5   31     6  \n",
       "2018-05-31 07:00:00  7.630360e+09  2018      5   31     7  \n",
       "2018-05-31 08:00:00  5.385360e+09  2018      5   31     8  \n",
       "2018-05-31 09:00:00  5.552970e+09  2018      5   31     9  \n",
       "2018-05-31 10:00:00  5.881380e+09  2018      5   31    10  \n",
       "2018-05-31 11:00:00  6.608530e+09  2018      5   31    11  \n",
       "2018-05-31 12:00:00  1.079586e+10  2018      5   31    12  "
      ]
     },
     "execution_count": 20,
     "metadata": {},
     "output_type": "execute_result"
    }
   ],
   "source": [
    "df = df.between_time(include_start=True,include_end=True, start_time='03:00:00', end_time='12:00:00')\n",
    "df.tail(12)"
   ]
  },
  {
   "cell_type": "markdown",
   "metadata": {
    "slideshow": {
     "slide_type": "slide"
    }
   },
   "source": [
    "## Train and Test datasets"
   ]
  },
  {
   "cell_type": "markdown",
   "metadata": {
    "slideshow": {
     "slide_type": "subslide"
    }
   },
   "source": [
    "Separate the dataframe into train and test datasets"
   ]
  },
  {
   "cell_type": "code",
   "execution_count": 21,
   "metadata": {
    "scrolled": true,
    "slideshow": {
     "slide_type": "fragment"
    }
   },
   "outputs": [
    {
     "data": {
      "text/html": [
       "<div>\n",
       "<style scoped>\n",
       "    .dataframe tbody tr th:only-of-type {\n",
       "        vertical-align: middle;\n",
       "    }\n",
       "\n",
       "    .dataframe tbody tr th {\n",
       "        vertical-align: top;\n",
       "    }\n",
       "\n",
       "    .dataframe thead th {\n",
       "        text-align: right;\n",
       "    }\n",
       "</style>\n",
       "<table border=\"1\" class=\"dataframe\">\n",
       "  <thead>\n",
       "    <tr style=\"text-align: right;\">\n",
       "      <th></th>\n",
       "      <th>Open</th>\n",
       "      <th>High</th>\n",
       "      <th>Low</th>\n",
       "      <th>Close</th>\n",
       "      <th>Volume</th>\n",
       "      <th>return</th>\n",
       "      <th>label</th>\n",
       "      <th>Open_oil</th>\n",
       "      <th>High_oil</th>\n",
       "      <th>Low_oil</th>\n",
       "      <th>Close_oil</th>\n",
       "      <th>Volume_oil</th>\n",
       "      <th>year</th>\n",
       "      <th>month</th>\n",
       "      <th>day</th>\n",
       "      <th>hour</th>\n",
       "    </tr>\n",
       "  </thead>\n",
       "  <tbody>\n",
       "    <tr>\n",
       "      <th>2016-01-01 03:00:00</th>\n",
       "      <td>1.38326</td>\n",
       "      <td>1.38326</td>\n",
       "      <td>1.38326</td>\n",
       "      <td>1.38326</td>\n",
       "      <td>0.0</td>\n",
       "      <td>0.0</td>\n",
       "      <td>0</td>\n",
       "      <td>1.38326</td>\n",
       "      <td>1.38326</td>\n",
       "      <td>1.38326</td>\n",
       "      <td>1.38326</td>\n",
       "      <td>0.0</td>\n",
       "      <td>2016</td>\n",
       "      <td>1</td>\n",
       "      <td>1</td>\n",
       "      <td>3</td>\n",
       "    </tr>\n",
       "    <tr>\n",
       "      <th>2016-01-01 04:00:00</th>\n",
       "      <td>1.38326</td>\n",
       "      <td>1.38326</td>\n",
       "      <td>1.38326</td>\n",
       "      <td>1.38326</td>\n",
       "      <td>0.0</td>\n",
       "      <td>0.0</td>\n",
       "      <td>0</td>\n",
       "      <td>1.38326</td>\n",
       "      <td>1.38326</td>\n",
       "      <td>1.38326</td>\n",
       "      <td>1.38326</td>\n",
       "      <td>0.0</td>\n",
       "      <td>2016</td>\n",
       "      <td>1</td>\n",
       "      <td>1</td>\n",
       "      <td>4</td>\n",
       "    </tr>\n",
       "    <tr>\n",
       "      <th>2016-01-01 05:00:00</th>\n",
       "      <td>1.38326</td>\n",
       "      <td>1.38326</td>\n",
       "      <td>1.38326</td>\n",
       "      <td>1.38326</td>\n",
       "      <td>0.0</td>\n",
       "      <td>0.0</td>\n",
       "      <td>0</td>\n",
       "      <td>1.38326</td>\n",
       "      <td>1.38326</td>\n",
       "      <td>1.38326</td>\n",
       "      <td>1.38326</td>\n",
       "      <td>0.0</td>\n",
       "      <td>2016</td>\n",
       "      <td>1</td>\n",
       "      <td>1</td>\n",
       "      <td>5</td>\n",
       "    </tr>\n",
       "    <tr>\n",
       "      <th>2016-01-01 06:00:00</th>\n",
       "      <td>1.38326</td>\n",
       "      <td>1.38326</td>\n",
       "      <td>1.38326</td>\n",
       "      <td>1.38326</td>\n",
       "      <td>0.0</td>\n",
       "      <td>0.0</td>\n",
       "      <td>0</td>\n",
       "      <td>1.38326</td>\n",
       "      <td>1.38326</td>\n",
       "      <td>1.38326</td>\n",
       "      <td>1.38326</td>\n",
       "      <td>0.0</td>\n",
       "      <td>2016</td>\n",
       "      <td>1</td>\n",
       "      <td>1</td>\n",
       "      <td>6</td>\n",
       "    </tr>\n",
       "    <tr>\n",
       "      <th>2016-01-01 07:00:00</th>\n",
       "      <td>1.38326</td>\n",
       "      <td>1.38326</td>\n",
       "      <td>1.38326</td>\n",
       "      <td>1.38326</td>\n",
       "      <td>0.0</td>\n",
       "      <td>0.0</td>\n",
       "      <td>0</td>\n",
       "      <td>1.38326</td>\n",
       "      <td>1.38326</td>\n",
       "      <td>1.38326</td>\n",
       "      <td>1.38326</td>\n",
       "      <td>0.0</td>\n",
       "      <td>2016</td>\n",
       "      <td>1</td>\n",
       "      <td>1</td>\n",
       "      <td>7</td>\n",
       "    </tr>\n",
       "  </tbody>\n",
       "</table>\n",
       "</div>"
      ],
      "text/plain": [
       "                        Open     High      Low    Close  Volume  return  \\\n",
       "2016-01-01 03:00:00  1.38326  1.38326  1.38326  1.38326     0.0     0.0   \n",
       "2016-01-01 04:00:00  1.38326  1.38326  1.38326  1.38326     0.0     0.0   \n",
       "2016-01-01 05:00:00  1.38326  1.38326  1.38326  1.38326     0.0     0.0   \n",
       "2016-01-01 06:00:00  1.38326  1.38326  1.38326  1.38326     0.0     0.0   \n",
       "2016-01-01 07:00:00  1.38326  1.38326  1.38326  1.38326     0.0     0.0   \n",
       "\n",
       "                     label  Open_oil  High_oil  Low_oil  Close_oil  \\\n",
       "2016-01-01 03:00:00      0   1.38326   1.38326  1.38326    1.38326   \n",
       "2016-01-01 04:00:00      0   1.38326   1.38326  1.38326    1.38326   \n",
       "2016-01-01 05:00:00      0   1.38326   1.38326  1.38326    1.38326   \n",
       "2016-01-01 06:00:00      0   1.38326   1.38326  1.38326    1.38326   \n",
       "2016-01-01 07:00:00      0   1.38326   1.38326  1.38326    1.38326   \n",
       "\n",
       "                     Volume_oil  year  month  day  hour  \n",
       "2016-01-01 03:00:00         0.0  2016      1    1     3  \n",
       "2016-01-01 04:00:00         0.0  2016      1    1     4  \n",
       "2016-01-01 05:00:00         0.0  2016      1    1     5  \n",
       "2016-01-01 06:00:00         0.0  2016      1    1     6  \n",
       "2016-01-01 07:00:00         0.0  2016      1    1     7  "
      ]
     },
     "metadata": {},
     "output_type": "display_data"
    },
    {
     "data": {
      "text/html": [
       "<div>\n",
       "<style scoped>\n",
       "    .dataframe tbody tr th:only-of-type {\n",
       "        vertical-align: middle;\n",
       "    }\n",
       "\n",
       "    .dataframe tbody tr th {\n",
       "        vertical-align: top;\n",
       "    }\n",
       "\n",
       "    .dataframe thead th {\n",
       "        text-align: right;\n",
       "    }\n",
       "</style>\n",
       "<table border=\"1\" class=\"dataframe\">\n",
       "  <thead>\n",
       "    <tr style=\"text-align: right;\">\n",
       "      <th></th>\n",
       "      <th>Open</th>\n",
       "      <th>High</th>\n",
       "      <th>Low</th>\n",
       "      <th>Close</th>\n",
       "      <th>Volume</th>\n",
       "      <th>return</th>\n",
       "      <th>label</th>\n",
       "      <th>Open_oil</th>\n",
       "      <th>High_oil</th>\n",
       "      <th>Low_oil</th>\n",
       "      <th>Close_oil</th>\n",
       "      <th>Volume_oil</th>\n",
       "      <th>year</th>\n",
       "      <th>month</th>\n",
       "      <th>day</th>\n",
       "      <th>hour</th>\n",
       "    </tr>\n",
       "  </thead>\n",
       "  <tbody>\n",
       "    <tr>\n",
       "      <th>2018-05-30 08:00:00</th>\n",
       "      <td>1.30152</td>\n",
       "      <td>1.30161</td>\n",
       "      <td>1.30047</td>\n",
       "      <td>1.30047</td>\n",
       "      <td>7.426750e+09</td>\n",
       "      <td>0.033751</td>\n",
       "      <td>1</td>\n",
       "      <td>1.30152</td>\n",
       "      <td>1.30161</td>\n",
       "      <td>1.30047</td>\n",
       "      <td>1.30047</td>\n",
       "      <td>7.426750e+09</td>\n",
       "      <td>2018</td>\n",
       "      <td>5</td>\n",
       "      <td>30</td>\n",
       "      <td>8</td>\n",
       "    </tr>\n",
       "    <tr>\n",
       "      <th>2018-05-30 09:00:00</th>\n",
       "      <td>1.30047</td>\n",
       "      <td>1.30049</td>\n",
       "      <td>1.29931</td>\n",
       "      <td>1.29958</td>\n",
       "      <td>7.103510e+09</td>\n",
       "      <td>0.028608</td>\n",
       "      <td>1</td>\n",
       "      <td>1.30047</td>\n",
       "      <td>1.30049</td>\n",
       "      <td>1.29931</td>\n",
       "      <td>1.29958</td>\n",
       "      <td>7.103510e+09</td>\n",
       "      <td>2018</td>\n",
       "      <td>5</td>\n",
       "      <td>30</td>\n",
       "      <td>9</td>\n",
       "    </tr>\n",
       "    <tr>\n",
       "      <th>2018-05-30 10:00:00</th>\n",
       "      <td>1.29959</td>\n",
       "      <td>1.29999</td>\n",
       "      <td>1.29813</td>\n",
       "      <td>1.29861</td>\n",
       "      <td>8.318910e+09</td>\n",
       "      <td>0.031501</td>\n",
       "      <td>1</td>\n",
       "      <td>1.29959</td>\n",
       "      <td>1.29999</td>\n",
       "      <td>1.29813</td>\n",
       "      <td>1.29861</td>\n",
       "      <td>8.318910e+09</td>\n",
       "      <td>2018</td>\n",
       "      <td>5</td>\n",
       "      <td>30</td>\n",
       "      <td>10</td>\n",
       "    </tr>\n",
       "    <tr>\n",
       "      <th>2018-05-30 11:00:00</th>\n",
       "      <td>1.29863</td>\n",
       "      <td>1.29885</td>\n",
       "      <td>1.29705</td>\n",
       "      <td>1.29715</td>\n",
       "      <td>6.624660e+09</td>\n",
       "      <td>0.047573</td>\n",
       "      <td>0</td>\n",
       "      <td>1.29863</td>\n",
       "      <td>1.29885</td>\n",
       "      <td>1.29705</td>\n",
       "      <td>1.29715</td>\n",
       "      <td>6.624660e+09</td>\n",
       "      <td>2018</td>\n",
       "      <td>5</td>\n",
       "      <td>30</td>\n",
       "      <td>11</td>\n",
       "    </tr>\n",
       "    <tr>\n",
       "      <th>2018-05-30 12:00:00</th>\n",
       "      <td>1.29717</td>\n",
       "      <td>1.29863</td>\n",
       "      <td>1.29527</td>\n",
       "      <td>1.29781</td>\n",
       "      <td>1.067015e+10</td>\n",
       "      <td>-0.020572</td>\n",
       "      <td>0</td>\n",
       "      <td>1.29717</td>\n",
       "      <td>1.29863</td>\n",
       "      <td>1.29527</td>\n",
       "      <td>1.29781</td>\n",
       "      <td>1.067015e+10</td>\n",
       "      <td>2018</td>\n",
       "      <td>5</td>\n",
       "      <td>30</td>\n",
       "      <td>12</td>\n",
       "    </tr>\n",
       "  </tbody>\n",
       "</table>\n",
       "</div>"
      ],
      "text/plain": [
       "                        Open     High      Low    Close        Volume  \\\n",
       "2018-05-30 08:00:00  1.30152  1.30161  1.30047  1.30047  7.426750e+09   \n",
       "2018-05-30 09:00:00  1.30047  1.30049  1.29931  1.29958  7.103510e+09   \n",
       "2018-05-30 10:00:00  1.29959  1.29999  1.29813  1.29861  8.318910e+09   \n",
       "2018-05-30 11:00:00  1.29863  1.29885  1.29705  1.29715  6.624660e+09   \n",
       "2018-05-30 12:00:00  1.29717  1.29863  1.29527  1.29781  1.067015e+10   \n",
       "\n",
       "                       return  label  Open_oil  High_oil  Low_oil  Close_oil  \\\n",
       "2018-05-30 08:00:00  0.033751      1   1.30152   1.30161  1.30047    1.30047   \n",
       "2018-05-30 09:00:00  0.028608      1   1.30047   1.30049  1.29931    1.29958   \n",
       "2018-05-30 10:00:00  0.031501      1   1.29959   1.29999  1.29813    1.29861   \n",
       "2018-05-30 11:00:00  0.047573      0   1.29863   1.29885  1.29705    1.29715   \n",
       "2018-05-30 12:00:00 -0.020572      0   1.29717   1.29863  1.29527    1.29781   \n",
       "\n",
       "                       Volume_oil  year  month  day  hour  \n",
       "2018-05-30 08:00:00  7.426750e+09  2018      5   30     8  \n",
       "2018-05-30 09:00:00  7.103510e+09  2018      5   30     9  \n",
       "2018-05-30 10:00:00  8.318910e+09  2018      5   30    10  \n",
       "2018-05-30 11:00:00  6.624660e+09  2018      5   30    11  \n",
       "2018-05-30 12:00:00  1.067015e+10  2018      5   30    12  "
      ]
     },
     "metadata": {},
     "output_type": "display_data"
    }
   ],
   "source": [
    "df_train = df.loc[:'2018-05-30',:] \n",
    "display(df_train.head())\n",
    "display(df_train.tail())"
   ]
  },
  {
   "cell_type": "markdown",
   "metadata": {
    "slideshow": {
     "slide_type": "subslide"
    }
   },
   "source": [
    "Separate the dataframe into train and test datasets"
   ]
  },
  {
   "cell_type": "code",
   "execution_count": 22,
   "metadata": {
    "slideshow": {
     "slide_type": "fragment"
    }
   },
   "outputs": [
    {
     "data": {
      "text/html": [
       "<div>\n",
       "<style scoped>\n",
       "    .dataframe tbody tr th:only-of-type {\n",
       "        vertical-align: middle;\n",
       "    }\n",
       "\n",
       "    .dataframe tbody tr th {\n",
       "        vertical-align: top;\n",
       "    }\n",
       "\n",
       "    .dataframe thead th {\n",
       "        text-align: right;\n",
       "    }\n",
       "</style>\n",
       "<table border=\"1\" class=\"dataframe\">\n",
       "  <thead>\n",
       "    <tr style=\"text-align: right;\">\n",
       "      <th></th>\n",
       "      <th>Open</th>\n",
       "      <th>High</th>\n",
       "      <th>Low</th>\n",
       "      <th>Close</th>\n",
       "      <th>Volume</th>\n",
       "      <th>return</th>\n",
       "      <th>label</th>\n",
       "      <th>Open_oil</th>\n",
       "      <th>High_oil</th>\n",
       "      <th>Low_oil</th>\n",
       "      <th>Close_oil</th>\n",
       "      <th>Volume_oil</th>\n",
       "      <th>year</th>\n",
       "      <th>month</th>\n",
       "      <th>day</th>\n",
       "      <th>hour</th>\n",
       "    </tr>\n",
       "  </thead>\n",
       "  <tbody>\n",
       "    <tr>\n",
       "      <th>2018-05-31 03:00:00</th>\n",
       "      <td>1.28779</td>\n",
       "      <td>1.28788</td>\n",
       "      <td>1.28669</td>\n",
       "      <td>1.28719</td>\n",
       "      <td>2.857670e+09</td>\n",
       "      <td>0.019286</td>\n",
       "      <td>1</td>\n",
       "      <td>1.28779</td>\n",
       "      <td>1.28788</td>\n",
       "      <td>1.28669</td>\n",
       "      <td>1.28719</td>\n",
       "      <td>2.857670e+09</td>\n",
       "      <td>2018</td>\n",
       "      <td>5</td>\n",
       "      <td>31</td>\n",
       "      <td>3</td>\n",
       "    </tr>\n",
       "    <tr>\n",
       "      <th>2018-05-31 04:00:00</th>\n",
       "      <td>1.28719</td>\n",
       "      <td>1.28725</td>\n",
       "      <td>1.28647</td>\n",
       "      <td>1.28677</td>\n",
       "      <td>1.907510e+09</td>\n",
       "      <td>0.013500</td>\n",
       "      <td>1</td>\n",
       "      <td>1.28719</td>\n",
       "      <td>1.28725</td>\n",
       "      <td>1.28647</td>\n",
       "      <td>1.28677</td>\n",
       "      <td>1.907510e+09</td>\n",
       "      <td>2018</td>\n",
       "      <td>5</td>\n",
       "      <td>31</td>\n",
       "      <td>4</td>\n",
       "    </tr>\n",
       "    <tr>\n",
       "      <th>2018-05-31 05:00:00</th>\n",
       "      <td>1.28677</td>\n",
       "      <td>1.28707</td>\n",
       "      <td>1.28598</td>\n",
       "      <td>1.28673</td>\n",
       "      <td>3.887940e+09</td>\n",
       "      <td>0.001286</td>\n",
       "      <td>0</td>\n",
       "      <td>1.28677</td>\n",
       "      <td>1.28707</td>\n",
       "      <td>1.28598</td>\n",
       "      <td>1.28673</td>\n",
       "      <td>3.887940e+09</td>\n",
       "      <td>2018</td>\n",
       "      <td>5</td>\n",
       "      <td>31</td>\n",
       "      <td>5</td>\n",
       "    </tr>\n",
       "    <tr>\n",
       "      <th>2018-05-31 06:00:00</th>\n",
       "      <td>1.28678</td>\n",
       "      <td>1.28758</td>\n",
       "      <td>1.28654</td>\n",
       "      <td>1.28734</td>\n",
       "      <td>6.998760e+09</td>\n",
       "      <td>-0.018001</td>\n",
       "      <td>1</td>\n",
       "      <td>1.28678</td>\n",
       "      <td>1.28758</td>\n",
       "      <td>1.28654</td>\n",
       "      <td>1.28734</td>\n",
       "      <td>6.998760e+09</td>\n",
       "      <td>2018</td>\n",
       "      <td>5</td>\n",
       "      <td>31</td>\n",
       "      <td>6</td>\n",
       "    </tr>\n",
       "    <tr>\n",
       "      <th>2018-05-31 07:00:00</th>\n",
       "      <td>1.28735</td>\n",
       "      <td>1.28747</td>\n",
       "      <td>1.28452</td>\n",
       "      <td>1.28482</td>\n",
       "      <td>7.630360e+09</td>\n",
       "      <td>0.081324</td>\n",
       "      <td>1</td>\n",
       "      <td>1.28735</td>\n",
       "      <td>1.28747</td>\n",
       "      <td>1.28452</td>\n",
       "      <td>1.28482</td>\n",
       "      <td>7.630360e+09</td>\n",
       "      <td>2018</td>\n",
       "      <td>5</td>\n",
       "      <td>31</td>\n",
       "      <td>7</td>\n",
       "    </tr>\n",
       "  </tbody>\n",
       "</table>\n",
       "</div>"
      ],
      "text/plain": [
       "                        Open     High      Low    Close        Volume  \\\n",
       "2018-05-31 03:00:00  1.28779  1.28788  1.28669  1.28719  2.857670e+09   \n",
       "2018-05-31 04:00:00  1.28719  1.28725  1.28647  1.28677  1.907510e+09   \n",
       "2018-05-31 05:00:00  1.28677  1.28707  1.28598  1.28673  3.887940e+09   \n",
       "2018-05-31 06:00:00  1.28678  1.28758  1.28654  1.28734  6.998760e+09   \n",
       "2018-05-31 07:00:00  1.28735  1.28747  1.28452  1.28482  7.630360e+09   \n",
       "\n",
       "                       return  label  Open_oil  High_oil  Low_oil  Close_oil  \\\n",
       "2018-05-31 03:00:00  0.019286      1   1.28779   1.28788  1.28669    1.28719   \n",
       "2018-05-31 04:00:00  0.013500      1   1.28719   1.28725  1.28647    1.28677   \n",
       "2018-05-31 05:00:00  0.001286      0   1.28677   1.28707  1.28598    1.28673   \n",
       "2018-05-31 06:00:00 -0.018001      1   1.28678   1.28758  1.28654    1.28734   \n",
       "2018-05-31 07:00:00  0.081324      1   1.28735   1.28747  1.28452    1.28482   \n",
       "\n",
       "                       Volume_oil  year  month  day  hour  \n",
       "2018-05-31 03:00:00  2.857670e+09  2018      5   31     3  \n",
       "2018-05-31 04:00:00  1.907510e+09  2018      5   31     4  \n",
       "2018-05-31 05:00:00  3.887940e+09  2018      5   31     5  \n",
       "2018-05-31 06:00:00  6.998760e+09  2018      5   31     6  \n",
       "2018-05-31 07:00:00  7.630360e+09  2018      5   31     7  "
      ]
     },
     "metadata": {},
     "output_type": "display_data"
    },
    {
     "data": {
      "text/html": [
       "<div>\n",
       "<style scoped>\n",
       "    .dataframe tbody tr th:only-of-type {\n",
       "        vertical-align: middle;\n",
       "    }\n",
       "\n",
       "    .dataframe tbody tr th {\n",
       "        vertical-align: top;\n",
       "    }\n",
       "\n",
       "    .dataframe thead th {\n",
       "        text-align: right;\n",
       "    }\n",
       "</style>\n",
       "<table border=\"1\" class=\"dataframe\">\n",
       "  <thead>\n",
       "    <tr style=\"text-align: right;\">\n",
       "      <th></th>\n",
       "      <th>Open</th>\n",
       "      <th>High</th>\n",
       "      <th>Low</th>\n",
       "      <th>Close</th>\n",
       "      <th>Volume</th>\n",
       "      <th>return</th>\n",
       "      <th>label</th>\n",
       "      <th>Open_oil</th>\n",
       "      <th>High_oil</th>\n",
       "      <th>Low_oil</th>\n",
       "      <th>Close_oil</th>\n",
       "      <th>Volume_oil</th>\n",
       "      <th>year</th>\n",
       "      <th>month</th>\n",
       "      <th>day</th>\n",
       "      <th>hour</th>\n",
       "    </tr>\n",
       "  </thead>\n",
       "  <tbody>\n",
       "    <tr>\n",
       "      <th>2018-05-31 08:00:00</th>\n",
       "      <td>1.28484</td>\n",
       "      <td>1.28538</td>\n",
       "      <td>1.28356</td>\n",
       "      <td>1.28400</td>\n",
       "      <td>5.385360e+09</td>\n",
       "      <td>0.027001</td>\n",
       "      <td>0</td>\n",
       "      <td>1.28484</td>\n",
       "      <td>1.28538</td>\n",
       "      <td>1.28356</td>\n",
       "      <td>1.28400</td>\n",
       "      <td>5.385360e+09</td>\n",
       "      <td>2018</td>\n",
       "      <td>5</td>\n",
       "      <td>31</td>\n",
       "      <td>8</td>\n",
       "    </tr>\n",
       "    <tr>\n",
       "      <th>2018-05-31 09:00:00</th>\n",
       "      <td>1.28400</td>\n",
       "      <td>1.28539</td>\n",
       "      <td>1.28394</td>\n",
       "      <td>1.28470</td>\n",
       "      <td>5.552970e+09</td>\n",
       "      <td>-0.022501</td>\n",
       "      <td>1</td>\n",
       "      <td>1.28400</td>\n",
       "      <td>1.28539</td>\n",
       "      <td>1.28394</td>\n",
       "      <td>1.28470</td>\n",
       "      <td>5.552970e+09</td>\n",
       "      <td>2018</td>\n",
       "      <td>5</td>\n",
       "      <td>31</td>\n",
       "      <td>9</td>\n",
       "    </tr>\n",
       "    <tr>\n",
       "      <th>2018-05-31 10:00:00</th>\n",
       "      <td>1.28472</td>\n",
       "      <td>1.28583</td>\n",
       "      <td>1.28180</td>\n",
       "      <td>1.28259</td>\n",
       "      <td>5.881380e+09</td>\n",
       "      <td>0.068467</td>\n",
       "      <td>0</td>\n",
       "      <td>1.28472</td>\n",
       "      <td>1.28583</td>\n",
       "      <td>1.28180</td>\n",
       "      <td>1.28259</td>\n",
       "      <td>5.881380e+09</td>\n",
       "      <td>2018</td>\n",
       "      <td>5</td>\n",
       "      <td>31</td>\n",
       "      <td>10</td>\n",
       "    </tr>\n",
       "    <tr>\n",
       "      <th>2018-05-31 11:00:00</th>\n",
       "      <td>1.28264</td>\n",
       "      <td>1.28514</td>\n",
       "      <td>1.28251</td>\n",
       "      <td>1.28474</td>\n",
       "      <td>6.608530e+09</td>\n",
       "      <td>-0.067502</td>\n",
       "      <td>0</td>\n",
       "      <td>1.28264</td>\n",
       "      <td>1.28514</td>\n",
       "      <td>1.28251</td>\n",
       "      <td>1.28474</td>\n",
       "      <td>6.608530e+09</td>\n",
       "      <td>2018</td>\n",
       "      <td>5</td>\n",
       "      <td>31</td>\n",
       "      <td>11</td>\n",
       "    </tr>\n",
       "    <tr>\n",
       "      <th>2018-05-31 12:00:00</th>\n",
       "      <td>1.28474</td>\n",
       "      <td>1.28987</td>\n",
       "      <td>1.28472</td>\n",
       "      <td>1.28985</td>\n",
       "      <td>1.079586e+10</td>\n",
       "      <td>-0.164256</td>\n",
       "      <td>0</td>\n",
       "      <td>1.28474</td>\n",
       "      <td>1.28987</td>\n",
       "      <td>1.28472</td>\n",
       "      <td>1.28985</td>\n",
       "      <td>1.079586e+10</td>\n",
       "      <td>2018</td>\n",
       "      <td>5</td>\n",
       "      <td>31</td>\n",
       "      <td>12</td>\n",
       "    </tr>\n",
       "  </tbody>\n",
       "</table>\n",
       "</div>"
      ],
      "text/plain": [
       "                        Open     High      Low    Close        Volume  \\\n",
       "2018-05-31 08:00:00  1.28484  1.28538  1.28356  1.28400  5.385360e+09   \n",
       "2018-05-31 09:00:00  1.28400  1.28539  1.28394  1.28470  5.552970e+09   \n",
       "2018-05-31 10:00:00  1.28472  1.28583  1.28180  1.28259  5.881380e+09   \n",
       "2018-05-31 11:00:00  1.28264  1.28514  1.28251  1.28474  6.608530e+09   \n",
       "2018-05-31 12:00:00  1.28474  1.28987  1.28472  1.28985  1.079586e+10   \n",
       "\n",
       "                       return  label  Open_oil  High_oil  Low_oil  Close_oil  \\\n",
       "2018-05-31 08:00:00  0.027001      0   1.28484   1.28538  1.28356    1.28400   \n",
       "2018-05-31 09:00:00 -0.022501      1   1.28400   1.28539  1.28394    1.28470   \n",
       "2018-05-31 10:00:00  0.068467      0   1.28472   1.28583  1.28180    1.28259   \n",
       "2018-05-31 11:00:00 -0.067502      0   1.28264   1.28514  1.28251    1.28474   \n",
       "2018-05-31 12:00:00 -0.164256      0   1.28474   1.28987  1.28472    1.28985   \n",
       "\n",
       "                       Volume_oil  year  month  day  hour  \n",
       "2018-05-31 08:00:00  5.385360e+09  2018      5   31     8  \n",
       "2018-05-31 09:00:00  5.552970e+09  2018      5   31     9  \n",
       "2018-05-31 10:00:00  5.881380e+09  2018      5   31    10  \n",
       "2018-05-31 11:00:00  6.608530e+09  2018      5   31    11  \n",
       "2018-05-31 12:00:00  1.079586e+10  2018      5   31    12  "
      ]
     },
     "metadata": {},
     "output_type": "display_data"
    }
   ],
   "source": [
    "df_test = df.loc['2018-05-31' ,:]  \n",
    "display(df_test.head())\n",
    "display(df_test.tail())"
   ]
  },
  {
   "cell_type": "code",
   "execution_count": 23,
   "metadata": {
    "slideshow": {
     "slide_type": "skip"
    }
   },
   "outputs": [
    {
     "data": {
      "text/plain": [
       "Index(['Open', 'High', 'Low', 'Close', 'Volume', 'return', 'label', 'Open_oil',\n",
       "       'High_oil', 'Low_oil', 'Close_oil', 'Volume_oil', 'year', 'month',\n",
       "       'day', 'hour'],\n",
       "      dtype='object')"
      ]
     },
     "execution_count": 23,
     "metadata": {},
     "output_type": "execute_result"
    }
   ],
   "source": [
    "df_train.columns"
   ]
  },
  {
   "cell_type": "markdown",
   "metadata": {
    "slideshow": {
     "slide_type": "slide"
    }
   },
   "source": [
    "## Applying machine learning models"
   ]
  },
  {
   "cell_type": "markdown",
   "metadata": {
    "slideshow": {
     "slide_type": "subslide"
    }
   },
   "source": [
    "Separate **features** and **output** ( X and y ) and create **test** and **train** datasets"
   ]
  },
  {
   "cell_type": "code",
   "execution_count": 24,
   "metadata": {
    "slideshow": {
     "slide_type": "fragment"
    }
   },
   "outputs": [],
   "source": [
    "y_train = df_train['label']\n",
    "X_train = df_train.loc[:,['Open', 'High', 'Low', 'Close', 'Volume', 'return', 'Open_oil', 'High_oil', 'Low_oil', 'Close_oil', 'Volume_oil',\n",
    "       'year', 'month', 'day', 'hour']]\n",
    "\n",
    "y_test = df_test['label']\n",
    "X_test = df_test.loc[:,['Open', 'High', 'Low', 'Close', 'Volume', 'return', 'Open_oil', 'High_oil', 'Low_oil', 'Close_oil', 'Volume_oil',\n",
    "       'year', 'month', 'day', 'hour']]\n"
   ]
  },
  {
   "cell_type": "markdown",
   "metadata": {
    "slideshow": {
     "slide_type": "subslide"
    }
   },
   "source": [
    "Let's take a look at our **test** and **train** datasets:"
   ]
  },
  {
   "cell_type": "code",
   "execution_count": 25,
   "metadata": {
    "slideshow": {
     "slide_type": "fragment"
    }
   },
   "outputs": [
    {
     "name": "stdout",
     "output_type": "stream",
     "text": [
      "(10, 15)\n",
      "(10,)\n",
      "% of Class0 : 0.500000 y_test\n",
      "% of Class1 : 0.500000 y_test\n"
     ]
    }
   ],
   "source": [
    "print(X_test.shape)\n",
    "print(y_test.shape)\n",
    "\n",
    "print('%% of Class0 : %f y_test' % (np.count_nonzero(y_test == 0)/float(len(y_test))))\n",
    "print('%% of Class1 : %f y_test' % (np.count_nonzero(y_test == 1)/float(len(y_test))))"
   ]
  },
  {
   "cell_type": "code",
   "execution_count": 26,
   "metadata": {
    "slideshow": {
     "slide_type": "fragment"
    }
   },
   "outputs": [
    {
     "name": "stdout",
     "output_type": "stream",
     "text": [
      "(6040, 15)\n",
      "(6040,)\n",
      "% of Class0 : 0.513742 y_train\n",
      "% of Class1 : 0.486258 y_train\n"
     ]
    }
   ],
   "source": [
    "print(X_train.shape)\n",
    "print(y_train.shape)\n",
    "\n",
    "print('%% of Class0 : %f y_train' % (np.count_nonzero(y_train == 0)/float(len(y_train))))\n",
    "print('%% of Class1 : %f y_train' % (np.count_nonzero(y_train == 1)/float(len(y_train))))"
   ]
  },
  {
   "cell_type": "markdown",
   "metadata": {
    "slideshow": {
     "slide_type": "subslide"
    }
   },
   "source": [
    "Choose a model (or some models) and **fit**"
   ]
  },
  {
   "cell_type": "code",
   "execution_count": 27,
   "metadata": {
    "scrolled": true,
    "slideshow": {
     "slide_type": "fragment"
    }
   },
   "outputs": [
    {
     "name": "stdout",
     "output_type": "stream",
     "text": [
      "      Iter       Train Loss   Remaining Time \n",
      "         1           1.3840            0.77s\n",
      "         2           1.3827            0.66s\n",
      "         3           1.3815            0.61s\n",
      "         4           1.3805            0.65s\n",
      "         5           1.3796            0.63s\n",
      "         6           1.3786            0.61s\n",
      "         7           1.3777            0.62s\n",
      "         8           1.3769            0.60s\n",
      "         9           1.3756            0.59s\n",
      "        10           1.3749            0.59s\n",
      "        11           1.3734            0.60s\n",
      "        12           1.3725            0.59s\n",
      "        13           1.3713            0.60s\n",
      "        14           1.3704            0.58s\n",
      "        15           1.3695            0.57s\n",
      "        16           1.3687            0.57s\n",
      "        17           1.3674            0.57s\n",
      "        18           1.3664            0.56s\n",
      "        19           1.3655            0.55s\n",
      "        20           1.3651            0.54s\n",
      "        21           1.3648            0.53s\n",
      "        22           1.3643            0.52s\n",
      "        23           1.3634            0.51s\n",
      "        24           1.3626            0.50s\n",
      "        25           1.3623            0.49s\n",
      "        26           1.3617            0.48s\n",
      "        27           1.3613            0.49s\n",
      "        28           1.3607            0.48s\n",
      "        29           1.3596            0.47s\n",
      "        30           1.3590            0.47s\n",
      "        31           1.3578            0.46s\n",
      "        32           1.3565            0.47s\n",
      "        33           1.3557            0.47s\n",
      "        34           1.3554            0.47s\n",
      "        35           1.3547            0.46s\n",
      "        36           1.3537            0.46s\n",
      "        37           1.3525            0.45s\n",
      "        38           1.3517            0.45s\n",
      "        39           1.3510            0.44s\n",
      "        40           1.3504            0.43s\n",
      "        41           1.3493            0.43s\n",
      "        42           1.3482            0.42s\n",
      "        43           1.3478            0.41s\n",
      "        44           1.3465            0.40s\n",
      "        45           1.3460            0.39s\n",
      "        46           1.3449            0.39s\n",
      "        47           1.3437            0.38s\n",
      "        48           1.3435            0.37s\n",
      "        49           1.3428            0.36s\n",
      "        50           1.3419            0.35s\n",
      "        51           1.3410            0.34s\n",
      "        52           1.3401            0.34s\n",
      "        53           1.3396            0.33s\n",
      "        54           1.3392            0.32s\n",
      "        55           1.3387            0.31s\n",
      "        56           1.3377            0.31s\n",
      "        57           1.3369            0.30s\n",
      "        58           1.3367            0.30s\n",
      "        59           1.3357            0.29s\n",
      "        60           1.3343            0.28s\n",
      "        61           1.3330            0.28s\n",
      "        62           1.3321            0.27s\n",
      "        63           1.3311            0.26s\n",
      "        64           1.3303            0.25s\n",
      "        65           1.3299            0.25s\n",
      "        66           1.3290            0.24s\n",
      "        67           1.3283            0.23s\n",
      "        68           1.3279            0.22s\n",
      "        69           1.3277            0.22s\n",
      "        70           1.3269            0.21s\n",
      "        71           1.3258            0.20s\n",
      "        72           1.3249            0.20s\n",
      "        73           1.3241            0.19s\n",
      "        74           1.3236            0.18s\n",
      "        75           1.3233            0.17s\n",
      "        76           1.3221            0.17s\n",
      "        77           1.3213            0.16s\n",
      "        78           1.3201            0.15s\n",
      "        79           1.3194            0.14s\n",
      "        80           1.3186            0.14s\n",
      "        81           1.3175            0.13s\n",
      "        82           1.3167            0.12s\n",
      "        83           1.3163            0.12s\n",
      "        84           1.3153            0.11s\n",
      "        85           1.3143            0.10s\n",
      "        86           1.3134            0.10s\n",
      "        87           1.3124            0.09s\n",
      "        88           1.3115            0.08s\n",
      "        89           1.3106            0.07s\n",
      "        90           1.3102            0.07s\n",
      "        91           1.3094            0.06s\n",
      "        92           1.3090            0.05s\n",
      "        93           1.3080            0.05s\n",
      "        94           1.3072            0.04s\n",
      "        95           1.3062            0.03s\n",
      "        96           1.3054            0.03s\n",
      "        97           1.3046            0.02s\n",
      "        98           1.3041            0.01s\n",
      "        99           1.3033            0.01s\n",
      "       100           1.3025            0.00s\n"
     ]
    },
    {
     "data": {
      "text/plain": [
       "GradientBoostingClassifier(criterion='friedman_mse', init=None,\n",
       "              learning_rate=0.1, loss='deviance', max_depth=3,\n",
       "              max_features=None, max_leaf_nodes=None,\n",
       "              min_impurity_decrease=0.0, min_impurity_split=None,\n",
       "              min_samples_leaf=1, min_samples_split=2,\n",
       "              min_weight_fraction_leaf=0.0, n_estimators=100,\n",
       "              n_iter_no_change=None, presort='auto', random_state=None,\n",
       "              subsample=1.0, tol=0.0001, validation_fraction=0.1,\n",
       "              verbose=3, warm_start=False)"
      ]
     },
     "execution_count": 27,
     "metadata": {},
     "output_type": "execute_result"
    }
   ],
   "source": [
    "clf_gb = GradientBoostingClassifier(verbose=3)\n",
    "\n",
    "clf_gb.fit(X_train, y_train)"
   ]
  },
  {
   "cell_type": "code",
   "execution_count": 28,
   "metadata": {
    "scrolled": true,
    "slideshow": {
     "slide_type": "subslide"
    }
   },
   "outputs": [
    {
     "data": {
      "text/plain": [
       "RandomForestClassifier(bootstrap=True, class_weight=None, criterion='gini',\n",
       "            max_depth=15, max_features='auto', max_leaf_nodes=None,\n",
       "            min_impurity_decrease=0.0, min_impurity_split=None,\n",
       "            min_samples_leaf=1, min_samples_split=2,\n",
       "            min_weight_fraction_leaf=0.0, n_estimators=1000, n_jobs=None,\n",
       "            oob_score=False, random_state=0, verbose=0, warm_start=False)"
      ]
     },
     "execution_count": 28,
     "metadata": {},
     "output_type": "execute_result"
    }
   ],
   "source": [
    "clf_rf = RandomForestClassifier(n_estimators=1000, max_depth=15,\n",
    "                            random_state=0)\n",
    "clf_rf.fit(X_train, y_train)"
   ]
  },
  {
   "cell_type": "markdown",
   "metadata": {
    "slideshow": {
     "slide_type": "slide"
    }
   },
   "source": [
    "## How accurate are these models?"
   ]
  },
  {
   "cell_type": "code",
   "execution_count": 29,
   "metadata": {
    "slideshow": {
     "slide_type": "subslide"
    }
   },
   "outputs": [
    {
     "name": "stdout",
     "output_type": "stream",
     "text": [
      "Testing Accuracy for Gradient Booster: 0.630298\n"
     ]
    }
   ],
   "source": [
    "accuracy_gb = clf_gb.score(X_train, y_train)\n",
    "print('Testing Accuracy for Gradient Booster: %f' % accuracy_gb)"
   ]
  },
  {
   "cell_type": "code",
   "execution_count": 30,
   "metadata": {
    "slideshow": {
     "slide_type": "fragment"
    }
   },
   "outputs": [
    {
     "name": "stdout",
     "output_type": "stream",
     "text": [
      "Testing Accuracy for Random Forest: 0.973179\n"
     ]
    }
   ],
   "source": [
    "accuracy_rf = clf_rf.score(X_train, y_train)\n",
    "print('Testing Accuracy for Random Forest: %f' % accuracy_rf)\n",
    "\n",
    "# prepare yourself for the output, it's impressive!"
   ]
  },
  {
   "cell_type": "markdown",
   "metadata": {
    "slideshow": {
     "slide_type": "fragment"
    }
   },
   "source": [
    "**Next step:** let computers do their homework applying an *AutoML* !"
   ]
  },
  {
   "cell_type": "markdown",
   "metadata": {
    "slideshow": {
     "slide_type": "subslide"
    }
   },
   "source": [
    "Predict test data"
   ]
  },
  {
   "cell_type": "code",
   "execution_count": 31,
   "metadata": {
    "scrolled": true,
    "slideshow": {
     "slide_type": "fragment"
    }
   },
   "outputs": [],
   "source": [
    "pred_gb = clf_gb.predict(X_test)"
   ]
  },
  {
   "cell_type": "code",
   "execution_count": 32,
   "metadata": {},
   "outputs": [],
   "source": [
    "pred_rf = clf_rf.predict(X_test)"
   ]
  },
  {
   "cell_type": "markdown",
   "metadata": {
    "slideshow": {
     "slide_type": "subslide"
    }
   },
   "source": [
    "Compare predicted and label"
   ]
  },
  {
   "cell_type": "code",
   "execution_count": 33,
   "metadata": {
    "slideshow": {
     "slide_type": "fragment"
    }
   },
   "outputs": [
    {
     "data": {
      "text/html": [
       "<div>\n",
       "<style scoped>\n",
       "    .dataframe tbody tr th:only-of-type {\n",
       "        vertical-align: middle;\n",
       "    }\n",
       "\n",
       "    .dataframe tbody tr th {\n",
       "        vertical-align: top;\n",
       "    }\n",
       "\n",
       "    .dataframe thead th {\n",
       "        text-align: right;\n",
       "    }\n",
       "</style>\n",
       "<table border=\"1\" class=\"dataframe\">\n",
       "  <thead>\n",
       "    <tr style=\"text-align: right;\">\n",
       "      <th></th>\n",
       "      <th>label</th>\n",
       "      <th>pred_gb</th>\n",
       "      <th>pred_rf</th>\n",
       "      <th>won_gb</th>\n",
       "      <th>won_rf</th>\n",
       "    </tr>\n",
       "  </thead>\n",
       "  <tbody>\n",
       "    <tr>\n",
       "      <th>2018-05-31 03:00:00</th>\n",
       "      <td>1</td>\n",
       "      <td>0</td>\n",
       "      <td>0</td>\n",
       "      <td>False</td>\n",
       "      <td>False</td>\n",
       "    </tr>\n",
       "    <tr>\n",
       "      <th>2018-05-31 04:00:00</th>\n",
       "      <td>1</td>\n",
       "      <td>0</td>\n",
       "      <td>0</td>\n",
       "      <td>False</td>\n",
       "      <td>False</td>\n",
       "    </tr>\n",
       "    <tr>\n",
       "      <th>2018-05-31 05:00:00</th>\n",
       "      <td>0</td>\n",
       "      <td>0</td>\n",
       "      <td>0</td>\n",
       "      <td>True</td>\n",
       "      <td>True</td>\n",
       "    </tr>\n",
       "    <tr>\n",
       "      <th>2018-05-31 06:00:00</th>\n",
       "      <td>1</td>\n",
       "      <td>1</td>\n",
       "      <td>1</td>\n",
       "      <td>True</td>\n",
       "      <td>True</td>\n",
       "    </tr>\n",
       "    <tr>\n",
       "      <th>2018-05-31 07:00:00</th>\n",
       "      <td>1</td>\n",
       "      <td>1</td>\n",
       "      <td>1</td>\n",
       "      <td>True</td>\n",
       "      <td>True</td>\n",
       "    </tr>\n",
       "    <tr>\n",
       "      <th>2018-05-31 08:00:00</th>\n",
       "      <td>0</td>\n",
       "      <td>0</td>\n",
       "      <td>0</td>\n",
       "      <td>True</td>\n",
       "      <td>True</td>\n",
       "    </tr>\n",
       "    <tr>\n",
       "      <th>2018-05-31 09:00:00</th>\n",
       "      <td>1</td>\n",
       "      <td>0</td>\n",
       "      <td>0</td>\n",
       "      <td>False</td>\n",
       "      <td>False</td>\n",
       "    </tr>\n",
       "    <tr>\n",
       "      <th>2018-05-31 10:00:00</th>\n",
       "      <td>0</td>\n",
       "      <td>0</td>\n",
       "      <td>0</td>\n",
       "      <td>True</td>\n",
       "      <td>True</td>\n",
       "    </tr>\n",
       "    <tr>\n",
       "      <th>2018-05-31 11:00:00</th>\n",
       "      <td>0</td>\n",
       "      <td>0</td>\n",
       "      <td>0</td>\n",
       "      <td>True</td>\n",
       "      <td>True</td>\n",
       "    </tr>\n",
       "    <tr>\n",
       "      <th>2018-05-31 12:00:00</th>\n",
       "      <td>0</td>\n",
       "      <td>1</td>\n",
       "      <td>1</td>\n",
       "      <td>False</td>\n",
       "      <td>False</td>\n",
       "    </tr>\n",
       "  </tbody>\n",
       "</table>\n",
       "</div>"
      ],
      "text/plain": [
       "                     label  pred_gb  pred_rf  won_gb  won_rf\n",
       "2018-05-31 03:00:00      1        0        0   False   False\n",
       "2018-05-31 04:00:00      1        0        0   False   False\n",
       "2018-05-31 05:00:00      0        0        0    True    True\n",
       "2018-05-31 06:00:00      1        1        1    True    True\n",
       "2018-05-31 07:00:00      1        1        1    True    True\n",
       "2018-05-31 08:00:00      0        0        0    True    True\n",
       "2018-05-31 09:00:00      1        0        0   False   False\n",
       "2018-05-31 10:00:00      0        0        0    True    True\n",
       "2018-05-31 11:00:00      0        0        0    True    True\n",
       "2018-05-31 12:00:00      0        1        1   False   False"
      ]
     },
     "execution_count": 33,
     "metadata": {},
     "output_type": "execute_result"
    }
   ],
   "source": [
    "df_trade = pd.DataFrame(X_test)\n",
    "df_trade['label']   = y_test\n",
    "\n",
    "df_trade['pred_gb'] = pred_gb\n",
    "df_trade['pred_rf'] = pred_rf\n",
    "\n",
    "df_trade['won_gb']  = df_trade['label'] == df_trade['pred_gb']\n",
    "df_trade['won_rf']  = df_trade['label'] == df_trade['pred_rf']\n",
    "\n",
    "df_trade.loc[:, ['label', 'pred_gb', 'pred_rf', 'won_gb', 'won_rf']]"
   ]
  },
  {
   "cell_type": "markdown",
   "metadata": {
    "slideshow": {
     "slide_type": "subslide"
    }
   },
   "source": [
    "Didnt win and won"
   ]
  },
  {
   "cell_type": "code",
   "execution_count": 35,
   "metadata": {
    "scrolled": false,
    "slideshow": {
     "slide_type": "fragment"
    }
   },
   "outputs": [
    {
     "name": "stdout",
     "output_type": "stream",
     "text": [
      "4\n",
      "6\n"
     ]
    }
   ],
   "source": [
    "print(df_trade[df_trade['won_gb'] == False]['won_gb'].count())\n",
    "print(df_trade[df_trade['won_gb'] == True]['won_gb'].count())"
   ]
  },
  {
   "cell_type": "code",
   "execution_count": 36,
   "metadata": {
    "scrolled": false,
    "slideshow": {
     "slide_type": "fragment"
    }
   },
   "outputs": [
    {
     "name": "stdout",
     "output_type": "stream",
     "text": [
      "4\n",
      "6\n"
     ]
    }
   ],
   "source": [
    "print(df_trade[df_trade['won_rf'] == False]['won_rf'].count())\n",
    "print(df_trade[df_trade['won_rf'] == True]['won_rf'].count())"
   ]
  },
  {
   "cell_type": "markdown",
   "metadata": {
    "slideshow": {
     "slide_type": "subslide"
    }
   },
   "source": [
    "% of won"
   ]
  },
  {
   "cell_type": "code",
   "execution_count": 37,
   "metadata": {
    "scrolled": true,
    "slideshow": {
     "slide_type": "fragment"
    }
   },
   "outputs": [
    {
     "data": {
      "text/plain": [
       "0.6"
      ]
     },
     "execution_count": 37,
     "metadata": {},
     "output_type": "execute_result"
    }
   ],
   "source": [
    "df_trade[df_trade['won_gb'] == True]['won_gb'].count()/df_trade['won_gb'].count()"
   ]
  },
  {
   "cell_type": "code",
   "execution_count": 38,
   "metadata": {
    "scrolled": true,
    "slideshow": {
     "slide_type": "fragment"
    }
   },
   "outputs": [
    {
     "data": {
      "text/plain": [
       "0.6"
      ]
     },
     "execution_count": 38,
     "metadata": {},
     "output_type": "execute_result"
    }
   ],
   "source": [
    "df_trade[df_trade['won_rf'] == True]['won_rf'].count()/df_trade['won_rf'].count()"
   ]
  },
  {
   "cell_type": "markdown",
   "metadata": {
    "slideshow": {
     "slide_type": "slide"
    }
   },
   "source": [
    "# Thank y'all! \n",
    "\n",
    "**Ianca <3 Python**"
   ]
  }
 ],
 "metadata": {
  "celltoolbar": "Slideshow",
  "kernelspec": {
   "display_name": "Python 3",
   "language": "python",
   "name": "python3"
  },
  "language_info": {
   "codemirror_mode": {
    "name": "ipython",
    "version": 3
   },
   "file_extension": ".py",
   "mimetype": "text/x-python",
   "name": "python",
   "nbconvert_exporter": "python",
   "pygments_lexer": "ipython3",
   "version": "3.6.6"
  }
 },
 "nbformat": 4,
 "nbformat_minor": 1
}
